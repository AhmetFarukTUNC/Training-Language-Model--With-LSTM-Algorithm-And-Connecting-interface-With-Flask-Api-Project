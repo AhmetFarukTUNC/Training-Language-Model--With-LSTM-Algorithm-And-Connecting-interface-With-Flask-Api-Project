{
 "cells": [
  {
   "cell_type": "markdown",
   "id": "2b33b62d",
   "metadata": {},
   "source": [
    "# Gerekli Kütüphanelerin İmportlanması"
   ]
  },
  {
   "cell_type": "code",
   "execution_count": 2,
   "id": "c2f8ca8e",
   "metadata": {},
   "outputs": [],
   "source": [
    "import pandas as pd\n",
    "import numpy as np\n",
    "from sklearn.model_selection import train_test_split\n",
    "from sklearn.preprocessing import LabelEncoder\n",
    "from tensorflow.keras.preprocessing.text import Tokenizer\n",
    "from tensorflow.keras.preprocessing.sequence import pad_sequences\n",
    "from tensorflow.keras.models import Sequential\n",
    "from tensorflow.keras.layers import Embedding, LSTM, Dense, Dropout\n"
   ]
  },
  {
   "cell_type": "markdown",
   "id": "cdce3ada",
   "metadata": {},
   "source": [
    "# Veri Setinin Okunması"
   ]
  },
  {
   "cell_type": "code",
   "execution_count": 3,
   "id": "ac3af448",
   "metadata": {},
   "outputs": [],
   "source": [
    "df = pd.read_csv(\"veriler.csv\")"
   ]
  },
  {
   "cell_type": "markdown",
   "id": "af9ddbbb",
   "metadata": {},
   "source": [
    "# Veri Setinin Etiketlerinin Sayısallaştırılması "
   ]
  },
  {
   "cell_type": "code",
   "execution_count": 4,
   "id": "1e083a4e",
   "metadata": {},
   "outputs": [],
   "source": [
    "le = LabelEncoder()\n",
    "df[\"label\"] = le.fit_transform(df[\"Category\"])  # Adult=0, Non_Adult=1 gibi\n"
   ]
  },
  {
   "cell_type": "markdown",
   "id": "a04784b6",
   "metadata": {},
   "source": [
    "# Veri Setinin Görüntülenmesi"
   ]
  },
  {
   "cell_type": "code",
   "execution_count": 5,
   "id": "ce368fa5",
   "metadata": {},
   "outputs": [
    {
     "data": {
      "text/html": [
       "<div>\n",
       "<style scoped>\n",
       "    .dataframe tbody tr th:only-of-type {\n",
       "        vertical-align: middle;\n",
       "    }\n",
       "\n",
       "    .dataframe tbody tr th {\n",
       "        vertical-align: top;\n",
       "    }\n",
       "\n",
       "    .dataframe thead th {\n",
       "        text-align: right;\n",
       "    }\n",
       "</style>\n",
       "<table border=\"1\" class=\"dataframe\">\n",
       "  <thead>\n",
       "    <tr style=\"text-align: right;\">\n",
       "      <th></th>\n",
       "      <th>Description</th>\n",
       "      <th>Category</th>\n",
       "      <th>label</th>\n",
       "    </tr>\n",
       "  </thead>\n",
       "  <tbody>\n",
       "    <tr>\n",
       "      <th>0</th>\n",
       "      <td>Washington Correspondent New York Magazine Wri...</td>\n",
       "      <td>Non_Adult</td>\n",
       "      <td>1</td>\n",
       "    </tr>\n",
       "    <tr>\n",
       "      <th>1</th>\n",
       "      <td>Host of NPR s Pop Culture Happy Hour Author NY...</td>\n",
       "      <td>Non_Adult</td>\n",
       "      <td>1</td>\n",
       "    </tr>\n",
       "    <tr>\n",
       "      <th>2</th>\n",
       "      <td>Gay Men Ring Free gay tube for mature gay men ...</td>\n",
       "      <td>Adult</td>\n",
       "      <td>0</td>\n",
       "    </tr>\n",
       "    <tr>\n",
       "      <th>3</th>\n",
       "      <td>SeeMomSuck is packed with the best Amateur Ste...</td>\n",
       "      <td>Adult</td>\n",
       "      <td>0</td>\n",
       "    </tr>\n",
       "    <tr>\n",
       "      <th>4</th>\n",
       "      <td>xReview com provides in depth porn site review...</td>\n",
       "      <td>Adult</td>\n",
       "      <td>0</td>\n",
       "    </tr>\n",
       "    <tr>\n",
       "      <th>...</th>\n",
       "      <td>...</td>\n",
       "      <td>...</td>\n",
       "      <td>...</td>\n",
       "    </tr>\n",
       "    <tr>\n",
       "      <th>845</th>\n",
       "      <td>Free downloads of mobile porn in 3gp mp4 video...</td>\n",
       "      <td>Non_Adult</td>\n",
       "      <td>1</td>\n",
       "    </tr>\n",
       "    <tr>\n",
       "      <th>846</th>\n",
       "      <td>Your Daily Girls features new porn galleries u...</td>\n",
       "      <td>Non_Adult</td>\n",
       "      <td>1</td>\n",
       "    </tr>\n",
       "    <tr>\n",
       "      <th>847</th>\n",
       "      <td>Tweeting breaking news from CTVNews ca in the ...</td>\n",
       "      <td>Adult</td>\n",
       "      <td>0</td>\n",
       "    </tr>\n",
       "    <tr>\n",
       "      <th>848</th>\n",
       "      <td>Political editor Nine News Co author of The Ma...</td>\n",
       "      <td>Adult</td>\n",
       "      <td>0</td>\n",
       "    </tr>\n",
       "    <tr>\n",
       "      <th>849</th>\n",
       "      <td>Booble is an unbiased adult porn search engine...</td>\n",
       "      <td>Non_Adult</td>\n",
       "      <td>1</td>\n",
       "    </tr>\n",
       "  </tbody>\n",
       "</table>\n",
       "<p>850 rows × 3 columns</p>\n",
       "</div>"
      ],
      "text/plain": [
       "                                           Description   Category  label\n",
       "0    Washington Correspondent New York Magazine Wri...  Non_Adult      1\n",
       "1    Host of NPR s Pop Culture Happy Hour Author NY...  Non_Adult      1\n",
       "2    Gay Men Ring Free gay tube for mature gay men ...      Adult      0\n",
       "3    SeeMomSuck is packed with the best Amateur Ste...      Adult      0\n",
       "4    xReview com provides in depth porn site review...      Adult      0\n",
       "..                                                 ...        ...    ...\n",
       "845  Free downloads of mobile porn in 3gp mp4 video...  Non_Adult      1\n",
       "846  Your Daily Girls features new porn galleries u...  Non_Adult      1\n",
       "847  Tweeting breaking news from CTVNews ca in the ...      Adult      0\n",
       "848  Political editor Nine News Co author of The Ma...      Adult      0\n",
       "849  Booble is an unbiased adult porn search engine...  Non_Adult      1\n",
       "\n",
       "[850 rows x 3 columns]"
      ]
     },
     "execution_count": 5,
     "metadata": {},
     "output_type": "execute_result"
    }
   ],
   "source": [
    "df"
   ]
  },
  {
   "cell_type": "markdown",
   "id": "6832c930",
   "metadata": {},
   "source": [
    "# Category sütununun silinmesi"
   ]
  },
  {
   "cell_type": "code",
   "execution_count": 6,
   "id": "49de73df",
   "metadata": {},
   "outputs": [],
   "source": [
    "df = df.drop(columns=[\"Category\"])\n"
   ]
  },
  {
   "cell_type": "markdown",
   "id": "b3f6dde5",
   "metadata": {},
   "source": [
    "# Son Veri Seti"
   ]
  },
  {
   "cell_type": "code",
   "execution_count": 7,
   "id": "47437d2b",
   "metadata": {},
   "outputs": [
    {
     "data": {
      "text/html": [
       "<div>\n",
       "<style scoped>\n",
       "    .dataframe tbody tr th:only-of-type {\n",
       "        vertical-align: middle;\n",
       "    }\n",
       "\n",
       "    .dataframe tbody tr th {\n",
       "        vertical-align: top;\n",
       "    }\n",
       "\n",
       "    .dataframe thead th {\n",
       "        text-align: right;\n",
       "    }\n",
       "</style>\n",
       "<table border=\"1\" class=\"dataframe\">\n",
       "  <thead>\n",
       "    <tr style=\"text-align: right;\">\n",
       "      <th></th>\n",
       "      <th>Description</th>\n",
       "      <th>label</th>\n",
       "    </tr>\n",
       "  </thead>\n",
       "  <tbody>\n",
       "    <tr>\n",
       "      <th>0</th>\n",
       "      <td>Washington Correspondent New York Magazine Wri...</td>\n",
       "      <td>1</td>\n",
       "    </tr>\n",
       "    <tr>\n",
       "      <th>1</th>\n",
       "      <td>Host of NPR s Pop Culture Happy Hour Author NY...</td>\n",
       "      <td>1</td>\n",
       "    </tr>\n",
       "    <tr>\n",
       "      <th>2</th>\n",
       "      <td>Gay Men Ring Free gay tube for mature gay men ...</td>\n",
       "      <td>0</td>\n",
       "    </tr>\n",
       "    <tr>\n",
       "      <th>3</th>\n",
       "      <td>SeeMomSuck is packed with the best Amateur Ste...</td>\n",
       "      <td>0</td>\n",
       "    </tr>\n",
       "    <tr>\n",
       "      <th>4</th>\n",
       "      <td>xReview com provides in depth porn site review...</td>\n",
       "      <td>0</td>\n",
       "    </tr>\n",
       "    <tr>\n",
       "      <th>...</th>\n",
       "      <td>...</td>\n",
       "      <td>...</td>\n",
       "    </tr>\n",
       "    <tr>\n",
       "      <th>845</th>\n",
       "      <td>Free downloads of mobile porn in 3gp mp4 video...</td>\n",
       "      <td>1</td>\n",
       "    </tr>\n",
       "    <tr>\n",
       "      <th>846</th>\n",
       "      <td>Your Daily Girls features new porn galleries u...</td>\n",
       "      <td>1</td>\n",
       "    </tr>\n",
       "    <tr>\n",
       "      <th>847</th>\n",
       "      <td>Tweeting breaking news from CTVNews ca in the ...</td>\n",
       "      <td>0</td>\n",
       "    </tr>\n",
       "    <tr>\n",
       "      <th>848</th>\n",
       "      <td>Political editor Nine News Co author of The Ma...</td>\n",
       "      <td>0</td>\n",
       "    </tr>\n",
       "    <tr>\n",
       "      <th>849</th>\n",
       "      <td>Booble is an unbiased adult porn search engine...</td>\n",
       "      <td>1</td>\n",
       "    </tr>\n",
       "  </tbody>\n",
       "</table>\n",
       "<p>850 rows × 2 columns</p>\n",
       "</div>"
      ],
      "text/plain": [
       "                                           Description  label\n",
       "0    Washington Correspondent New York Magazine Wri...      1\n",
       "1    Host of NPR s Pop Culture Happy Hour Author NY...      1\n",
       "2    Gay Men Ring Free gay tube for mature gay men ...      0\n",
       "3    SeeMomSuck is packed with the best Amateur Ste...      0\n",
       "4    xReview com provides in depth porn site review...      0\n",
       "..                                                 ...    ...\n",
       "845  Free downloads of mobile porn in 3gp mp4 video...      1\n",
       "846  Your Daily Girls features new porn galleries u...      1\n",
       "847  Tweeting breaking news from CTVNews ca in the ...      0\n",
       "848  Political editor Nine News Co author of The Ma...      0\n",
       "849  Booble is an unbiased adult porn search engine...      1\n",
       "\n",
       "[850 rows x 2 columns]"
      ]
     },
     "execution_count": 7,
     "metadata": {},
     "output_type": "execute_result"
    }
   ],
   "source": [
    "df"
   ]
  },
  {
   "cell_type": "code",
   "execution_count": 8,
   "id": "4f1068c4",
   "metadata": {},
   "outputs": [
    {
     "name": "stdout",
     "output_type": "stream",
     "text": [
      "Boş satır yok!\n",
      "Boş sütun yok!\n"
     ]
    }
   ],
   "source": [
    "empty_rows = df.isnull().all(axis=1)\n",
    "empty_cols = df.isnull().all(axis=0)\n",
    "\n",
    "if empty_rows.any() == False:\n",
    "   print(\"Boş satır yok!\")\n",
    "if empty_cols.any() == False:\n",
    "   print(\"Boş sütun yok!\")\n",
    "\n"
   ]
  },
  {
   "cell_type": "markdown",
   "id": "4247fb70",
   "metadata": {},
   "source": [
    "# LSTM"
   ]
  },
  {
   "cell_type": "markdown",
   "id": "4d09d631",
   "metadata": {},
   "source": [
    "# Neden?\n",
    "\n",
    "    Modeller sayısal veri ile çalışır, doğrudan metin (string) verisini anlayamaz.\n",
    "\n",
    "    Metinler farklı uzunluklarda olur, ama modeller genellikle sabit uzunlukta giriş ister.\n",
    "\n",
    "    Bu yüzden metinleri önce kelimelere ayırıp sayılara dönüştürürüz, sonra hepsini aynı uzunlukta dizilere tamamlarız."
   ]
  },
  {
   "cell_type": "code",
   "execution_count": 9,
   "id": "5d7e00f7",
   "metadata": {},
   "outputs": [],
   "source": [
    "tokenizer = Tokenizer(num_words=5000, oov_token=\"<OOV>\")\n",
    "tokenizer.fit_on_texts(df[\"Description\"])\n",
    "\n",
    "sequences = tokenizer.texts_to_sequences(df[\"Description\"])\n",
    "padded = pad_sequences(sequences, maxlen=100, padding='post', truncating='post') # sonuna ekleme ve kesme = post\n",
    "\n",
    "X = padded\n",
    "y = df[\"label\"].values\n"
   ]
  },
  {
   "cell_type": "markdown",
   "id": "2383f3f9",
   "metadata": {},
   "source": [
    "# Neden yapıyoruz?\n",
    "\n",
    "    Modeli eğitmek (train) ve değerlendirmek (test) için farklı veri kümeleri kullanmak gerekiyor.\n",
    "\n",
    "    Eğer aynı verilerle hem eğitirsek hem sınarsak, model sadece gördüğü verileri \"ezberler\", gerçek hayatta ne kadar iyi olacağını anlayamayız.\n",
    "\n",
    "    Test seti, modelin gerçek performansını ölçmek için ayrılır."
   ]
  },
  {
   "cell_type": "code",
   "execution_count": 10,
   "id": "88fe1a0e",
   "metadata": {},
   "outputs": [],
   "source": [
    "X_train, X_test, y_train, y_test = train_test_split(X, y, test_size=0.3, random_state=42)\n"
   ]
  },
  {
   "cell_type": "markdown",
   "id": "a5553bd4",
   "metadata": {},
   "source": [
    "# Neden bu modeli kurduk?\n",
    "\n",
    "    Metin verisini anlamlı vektörlere dönüştürmek için Embedding kullandık.\n",
    "\n",
    "    Metin sıralarının içindeki kelime ilişkilerini öğrenmek için LSTM ile bağlam yakaladık.\n",
    "\n",
    "    İkili sınıflandırma çıktısı için uygun sigmoid aktivasyonlu Dense katmanla sonucu tahmin ettik.\n",
    "\n",
    "    Modeli, uygun kayıp fonksiyonu ve optimizer ile derleyerek eğitim için hazır hale getirdik."
   ]
  },
  {
   "cell_type": "code",
   "execution_count": 11,
   "id": "b2d0f759",
   "metadata": {},
   "outputs": [
    {
     "name": "stderr",
     "output_type": "stream",
     "text": [
      "c:\\ProgramData\\anaconda3\\Lib\\site-packages\\keras\\src\\layers\\core\\embedding.py:90: UserWarning: Argument `input_length` is deprecated. Just remove it.\n",
      "  warnings.warn(\n"
     ]
    },
    {
     "data": {
      "text/html": [
       "<pre style=\"white-space:pre;overflow-x:auto;line-height:normal;font-family:Menlo,'DejaVu Sans Mono',consolas,'Courier New',monospace\"><span style=\"font-weight: bold\">Model: \"sequential\"</span>\n",
       "</pre>\n"
      ],
      "text/plain": [
       "\u001b[1mModel: \"sequential\"\u001b[0m\n"
      ]
     },
     "metadata": {},
     "output_type": "display_data"
    },
    {
     "data": {
      "text/html": [
       "<pre style=\"white-space:pre;overflow-x:auto;line-height:normal;font-family:Menlo,'DejaVu Sans Mono',consolas,'Courier New',monospace\">┏━━━━━━━━━━━━━━━━━━━━━━━━━━━━━━━━━┳━━━━━━━━━━━━━━━━━━━━━━━━┳━━━━━━━━━━━━━━━┓\n",
       "┃<span style=\"font-weight: bold\"> Layer (type)                    </span>┃<span style=\"font-weight: bold\"> Output Shape           </span>┃<span style=\"font-weight: bold\">       Param # </span>┃\n",
       "┡━━━━━━━━━━━━━━━━━━━━━━━━━━━━━━━━━╇━━━━━━━━━━━━━━━━━━━━━━━━╇━━━━━━━━━━━━━━━┩\n",
       "│ embedding (<span style=\"color: #0087ff; text-decoration-color: #0087ff\">Embedding</span>)           │ ?                      │   <span style=\"color: #00af00; text-decoration-color: #00af00\">0</span> (unbuilt) │\n",
       "├─────────────────────────────────┼────────────────────────┼───────────────┤\n",
       "│ lstm (<span style=\"color: #0087ff; text-decoration-color: #0087ff\">LSTM</span>)                     │ ?                      │   <span style=\"color: #00af00; text-decoration-color: #00af00\">0</span> (unbuilt) │\n",
       "├─────────────────────────────────┼────────────────────────┼───────────────┤\n",
       "│ dense (<span style=\"color: #0087ff; text-decoration-color: #0087ff\">Dense</span>)                   │ ?                      │   <span style=\"color: #00af00; text-decoration-color: #00af00\">0</span> (unbuilt) │\n",
       "└─────────────────────────────────┴────────────────────────┴───────────────┘\n",
       "</pre>\n"
      ],
      "text/plain": [
       "┏━━━━━━━━━━━━━━━━━━━━━━━━━━━━━━━━━┳━━━━━━━━━━━━━━━━━━━━━━━━┳━━━━━━━━━━━━━━━┓\n",
       "┃\u001b[1m \u001b[0m\u001b[1mLayer (type)                   \u001b[0m\u001b[1m \u001b[0m┃\u001b[1m \u001b[0m\u001b[1mOutput Shape          \u001b[0m\u001b[1m \u001b[0m┃\u001b[1m \u001b[0m\u001b[1m      Param #\u001b[0m\u001b[1m \u001b[0m┃\n",
       "┡━━━━━━━━━━━━━━━━━━━━━━━━━━━━━━━━━╇━━━━━━━━━━━━━━━━━━━━━━━━╇━━━━━━━━━━━━━━━┩\n",
       "│ embedding (\u001b[38;5;33mEmbedding\u001b[0m)           │ ?                      │   \u001b[38;5;34m0\u001b[0m (unbuilt) │\n",
       "├─────────────────────────────────┼────────────────────────┼───────────────┤\n",
       "│ lstm (\u001b[38;5;33mLSTM\u001b[0m)                     │ ?                      │   \u001b[38;5;34m0\u001b[0m (unbuilt) │\n",
       "├─────────────────────────────────┼────────────────────────┼───────────────┤\n",
       "│ dense (\u001b[38;5;33mDense\u001b[0m)                   │ ?                      │   \u001b[38;5;34m0\u001b[0m (unbuilt) │\n",
       "└─────────────────────────────────┴────────────────────────┴───────────────┘\n"
      ]
     },
     "metadata": {},
     "output_type": "display_data"
    },
    {
     "data": {
      "text/html": [
       "<pre style=\"white-space:pre;overflow-x:auto;line-height:normal;font-family:Menlo,'DejaVu Sans Mono',consolas,'Courier New',monospace\"><span style=\"font-weight: bold\"> Total params: </span><span style=\"color: #00af00; text-decoration-color: #00af00\">0</span> (0.00 B)\n",
       "</pre>\n"
      ],
      "text/plain": [
       "\u001b[1m Total params: \u001b[0m\u001b[38;5;34m0\u001b[0m (0.00 B)\n"
      ]
     },
     "metadata": {},
     "output_type": "display_data"
    },
    {
     "data": {
      "text/html": [
       "<pre style=\"white-space:pre;overflow-x:auto;line-height:normal;font-family:Menlo,'DejaVu Sans Mono',consolas,'Courier New',monospace\"><span style=\"font-weight: bold\"> Trainable params: </span><span style=\"color: #00af00; text-decoration-color: #00af00\">0</span> (0.00 B)\n",
       "</pre>\n"
      ],
      "text/plain": [
       "\u001b[1m Trainable params: \u001b[0m\u001b[38;5;34m0\u001b[0m (0.00 B)\n"
      ]
     },
     "metadata": {},
     "output_type": "display_data"
    },
    {
     "data": {
      "text/html": [
       "<pre style=\"white-space:pre;overflow-x:auto;line-height:normal;font-family:Menlo,'DejaVu Sans Mono',consolas,'Courier New',monospace\"><span style=\"font-weight: bold\"> Non-trainable params: </span><span style=\"color: #00af00; text-decoration-color: #00af00\">0</span> (0.00 B)\n",
       "</pre>\n"
      ],
      "text/plain": [
       "\u001b[1m Non-trainable params: \u001b[0m\u001b[38;5;34m0\u001b[0m (0.00 B)\n"
      ]
     },
     "metadata": {},
     "output_type": "display_data"
    }
   ],
   "source": [
    "model = Sequential() # Katmanları ardaşık olarak ekler\n",
    "\n",
    "# input_dim=5000: Modelimiz, en sık kullanılan 5000 farklı kelimeyi tanıyacak. Yani kelime sayımız 5000 tane.\n",
    "\n",
    "# output_dim=64: Her kelime, 64 tane sayıdan oluşan özel bir vektörle temsil edilecek. Bu vektör, kelimenin anlamını yansıtan sayısal bir “özellik kümesi” gibi düşünülebilir.\n",
    "\n",
    "# input_length=100: Modelimize giren her cümle ya da metin 100 kelimelik sabit uzunlukta olacak (eksikse sıfır ile tamamlandı, fazlaysa kesildi).\n",
    "\n",
    "\n",
    "model.add(Embedding(input_dim=5000, output_dim=64, input_length=100))\n",
    "\n",
    "# LSTM (Long Short-Term Memory):\n",
    "# Metin gibi sıralı verilerde, kelimelerin zaman içinde nasıl bağlandığını ve birbirini nasıl etkilediğini öğrenen özel bir yapay sinir ağı katmanı.\n",
    "# Yani, önceki kelimelerle ilgili önemli bilgileri “hatırlayıp” sonraki kelimeler için kullanır.\n",
    "\n",
    "# 64:\n",
    "# Bu LSTM katmanının içinde 64 tane nöron (hücre) var. Yani katman, girdi dizisini 64 boyutlu bir özellik vektörüne dönüştürür.\n",
    "\n",
    "# dropout=0.2:\n",
    "# Eğitim sırasında aşırı öğrenmeyi (overfitting) önlemek için, bu katmanın girişindeki bağlantıların %20’si rastgele kapatılır. Bu sayede model daha sağlam öğrenir.\n",
    "\n",
    "# recurrent_dropout=0.2:\n",
    "# LSTM katmanının kendi içindeki zaman serisi bağlantılarında (geri besleme bağlantıları) da aynı şekilde %20 oranında dropout uygulanır.\n",
    "\n",
    "model.add(LSTM(64, dropout=0.2, recurrent_dropout=0.2))\n",
    "# Dense(1):\n",
    "# Modelin sonuna bir tane tam bağlı (dense) katman ekliyoruz.\n",
    "# Bu katman sadece 1 nörondan oluşuyor.\n",
    "\n",
    "# activation='sigmoid':\n",
    "# Bu nöronun çıkışı, sigmoid aktivasyon fonksiyonuyla 0 ile 1 arasında bir değer olacak.\n",
    "# Yani, çıktı olasılık olarak yorumlanabilir.\n",
    "model.add(Dense(1, activation='sigmoid'))\n",
    "\n",
    "\n",
    "\n",
    "model.compile(loss='binary_crossentropy', optimizer='adam', metrics=['accuracy'])\n",
    "model.summary()\n"
   ]
  },
  {
   "cell_type": "markdown",
   "id": "08aa752d",
   "metadata": {},
   "source": [
    "# Early Stopping için parametrelerin belirlenmesi"
   ]
  },
  {
   "cell_type": "code",
   "execution_count": 38,
   "id": "6e190ad4",
   "metadata": {},
   "outputs": [],
   "source": [
    "from tensorflow.keras.callbacks import EarlyStopping\n",
    "early_stop = EarlyStopping(\n",
    "    monitor='val_loss',       # izlenecek metrik\n",
    "    patience=200,               # iyileşme olmadan kaç epoch beklesin?\n",
    "    restore_best_weights=True # en iyi ağırlıkları geri yükle\n",
    ")\n"
   ]
  },
  {
   "cell_type": "markdown",
   "id": "c68d826d",
   "metadata": {},
   "source": [
    "# Modelin Eğitilmesi"
   ]
  },
  {
   "cell_type": "code",
   "execution_count": 39,
   "id": "ffb9692a",
   "metadata": {},
   "outputs": [
    {
     "name": "stdout",
     "output_type": "stream",
     "text": [
      "Epoch 1/1000\n",
      "\u001b[1m17/17\u001b[0m \u001b[32m━━━━━━━━━━━━━━━━━━━━\u001b[0m\u001b[37m\u001b[0m \u001b[1m1s\u001b[0m 51ms/step - accuracy: 0.8091 - loss: 0.4667 - val_accuracy: 0.8500 - val_loss: 0.4106\n",
      "Epoch 2/1000\n",
      "\u001b[1m17/17\u001b[0m \u001b[32m━━━━━━━━━━━━━━━━━━━━\u001b[0m\u001b[37m\u001b[0m \u001b[1m1s\u001b[0m 55ms/step - accuracy: 0.7983 - loss: 0.4764 - val_accuracy: 0.8000 - val_loss: 0.4600\n",
      "Epoch 3/1000\n",
      "\u001b[1m17/17\u001b[0m \u001b[32m━━━━━━━━━━━━━━━━━━━━\u001b[0m\u001b[37m\u001b[0m \u001b[1m1s\u001b[0m 46ms/step - accuracy: 0.6575 - loss: 0.6102 - val_accuracy: 0.5833 - val_loss: 0.6817\n",
      "Epoch 4/1000\n",
      "\u001b[1m17/17\u001b[0m \u001b[32m━━━━━━━━━━━━━━━━━━━━\u001b[0m\u001b[37m\u001b[0m \u001b[1m1s\u001b[0m 46ms/step - accuracy: 0.6054 - loss: 0.6799 - val_accuracy: 0.5833 - val_loss: 0.6797\n",
      "Epoch 5/1000\n",
      "\u001b[1m17/17\u001b[0m \u001b[32m━━━━━━━━━━━━━━━━━━━━\u001b[0m\u001b[37m\u001b[0m \u001b[1m1s\u001b[0m 47ms/step - accuracy: 0.5933 - loss: 0.6740 - val_accuracy: 0.5833 - val_loss: 0.6795\n",
      "Epoch 6/1000\n",
      "\u001b[1m17/17\u001b[0m \u001b[32m━━━━━━━━━━━━━━━━━━━━\u001b[0m\u001b[37m\u001b[0m \u001b[1m1s\u001b[0m 46ms/step - accuracy: 0.5961 - loss: 0.6752 - val_accuracy: 0.5833 - val_loss: 0.6805\n",
      "Epoch 7/1000\n",
      "\u001b[1m17/17\u001b[0m \u001b[32m━━━━━━━━━━━━━━━━━━━━\u001b[0m\u001b[37m\u001b[0m \u001b[1m1s\u001b[0m 50ms/step - accuracy: 0.6232 - loss: 0.6639 - val_accuracy: 0.5833 - val_loss: 0.6802\n",
      "Epoch 8/1000\n",
      "\u001b[1m17/17\u001b[0m \u001b[32m━━━━━━━━━━━━━━━━━━━━\u001b[0m\u001b[37m\u001b[0m \u001b[1m1s\u001b[0m 45ms/step - accuracy: 0.5850 - loss: 0.6823 - val_accuracy: 0.5833 - val_loss: 0.6798\n",
      "Epoch 9/1000\n",
      "\u001b[1m17/17\u001b[0m \u001b[32m━━━━━━━━━━━━━━━━━━━━\u001b[0m\u001b[37m\u001b[0m \u001b[1m1s\u001b[0m 47ms/step - accuracy: 0.6163 - loss: 0.6685 - val_accuracy: 0.5833 - val_loss: 0.6793\n",
      "Epoch 10/1000\n",
      "\u001b[1m17/17\u001b[0m \u001b[32m━━━━━━━━━━━━━━━━━━━━\u001b[0m\u001b[37m\u001b[0m \u001b[1m1s\u001b[0m 44ms/step - accuracy: 0.5795 - loss: 0.6804 - val_accuracy: 0.5833 - val_loss: 0.6792\n",
      "Epoch 11/1000\n",
      "\u001b[1m17/17\u001b[0m \u001b[32m━━━━━━━━━━━━━━━━━━━━\u001b[0m\u001b[37m\u001b[0m \u001b[1m1s\u001b[0m 45ms/step - accuracy: 0.5615 - loss: 0.6864 - val_accuracy: 0.5833 - val_loss: 0.6796\n",
      "Epoch 12/1000\n",
      "\u001b[1m17/17\u001b[0m \u001b[32m━━━━━━━━━━━━━━━━━━━━\u001b[0m\u001b[37m\u001b[0m \u001b[1m1s\u001b[0m 44ms/step - accuracy: 0.5834 - loss: 0.6817 - val_accuracy: 0.5833 - val_loss: 0.6792\n",
      "Epoch 13/1000\n",
      "\u001b[1m17/17\u001b[0m \u001b[32m━━━━━━━━━━━━━━━━━━━━\u001b[0m\u001b[37m\u001b[0m \u001b[1m1s\u001b[0m 44ms/step - accuracy: 0.5664 - loss: 0.6853 - val_accuracy: 0.5833 - val_loss: 0.6792\n",
      "Epoch 14/1000\n",
      "\u001b[1m17/17\u001b[0m \u001b[32m━━━━━━━━━━━━━━━━━━━━\u001b[0m\u001b[37m\u001b[0m \u001b[1m1s\u001b[0m 46ms/step - accuracy: 0.5671 - loss: 0.6843 - val_accuracy: 0.5833 - val_loss: 0.6808\n",
      "Epoch 15/1000\n",
      "\u001b[1m17/17\u001b[0m \u001b[32m━━━━━━━━━━━━━━━━━━━━\u001b[0m\u001b[37m\u001b[0m \u001b[1m1s\u001b[0m 47ms/step - accuracy: 0.6133 - loss: 0.6666 - val_accuracy: 0.5833 - val_loss: 0.6792\n",
      "Epoch 16/1000\n",
      "\u001b[1m17/17\u001b[0m \u001b[32m━━━━━━━━━━━━━━━━━━━━\u001b[0m\u001b[37m\u001b[0m \u001b[1m1s\u001b[0m 46ms/step - accuracy: 0.5554 - loss: 0.6882 - val_accuracy: 0.5833 - val_loss: 0.6794\n",
      "Epoch 17/1000\n",
      "\u001b[1m17/17\u001b[0m \u001b[32m━━━━━━━━━━━━━━━━━━━━\u001b[0m\u001b[37m\u001b[0m \u001b[1m1s\u001b[0m 44ms/step - accuracy: 0.5907 - loss: 0.6787 - val_accuracy: 0.5833 - val_loss: 0.6810\n",
      "Epoch 18/1000\n",
      "\u001b[1m17/17\u001b[0m \u001b[32m━━━━━━━━━━━━━━━━━━━━\u001b[0m\u001b[37m\u001b[0m \u001b[1m1s\u001b[0m 44ms/step - accuracy: 0.5777 - loss: 0.6823 - val_accuracy: 0.5833 - val_loss: 0.6793\n",
      "Epoch 19/1000\n",
      "\u001b[1m17/17\u001b[0m \u001b[32m━━━━━━━━━━━━━━━━━━━━\u001b[0m\u001b[37m\u001b[0m \u001b[1m1s\u001b[0m 46ms/step - accuracy: 0.5902 - loss: 0.6767 - val_accuracy: 0.5833 - val_loss: 0.6793\n",
      "Epoch 20/1000\n",
      "\u001b[1m17/17\u001b[0m \u001b[32m━━━━━━━━━━━━━━━━━━━━\u001b[0m\u001b[37m\u001b[0m \u001b[1m1s\u001b[0m 45ms/step - accuracy: 0.5611 - loss: 0.6831 - val_accuracy: 0.5833 - val_loss: 0.6795\n",
      "Epoch 21/1000\n",
      "\u001b[1m17/17\u001b[0m \u001b[32m━━━━━━━━━━━━━━━━━━━━\u001b[0m\u001b[37m\u001b[0m \u001b[1m1s\u001b[0m 45ms/step - accuracy: 0.5802 - loss: 0.6787 - val_accuracy: 0.5833 - val_loss: 0.6796\n",
      "Epoch 22/1000\n",
      "\u001b[1m17/17\u001b[0m \u001b[32m━━━━━━━━━━━━━━━━━━━━\u001b[0m\u001b[37m\u001b[0m \u001b[1m1s\u001b[0m 44ms/step - accuracy: 0.5837 - loss: 0.6769 - val_accuracy: 0.5833 - val_loss: 0.6792\n",
      "Epoch 23/1000\n",
      "\u001b[1m17/17\u001b[0m \u001b[32m━━━━━━━━━━━━━━━━━━━━\u001b[0m\u001b[37m\u001b[0m \u001b[1m1s\u001b[0m 43ms/step - accuracy: 0.5854 - loss: 0.6793 - val_accuracy: 0.5833 - val_loss: 0.6792\n",
      "Epoch 24/1000\n",
      "\u001b[1m17/17\u001b[0m \u001b[32m━━━━━━━━━━━━━━━━━━━━\u001b[0m\u001b[37m\u001b[0m \u001b[1m1s\u001b[0m 43ms/step - accuracy: 0.5841 - loss: 0.6768 - val_accuracy: 0.5833 - val_loss: 0.6792\n",
      "Epoch 25/1000\n",
      "\u001b[1m17/17\u001b[0m \u001b[32m━━━━━━━━━━━━━━━━━━━━\u001b[0m\u001b[37m\u001b[0m \u001b[1m1s\u001b[0m 44ms/step - accuracy: 0.5765 - loss: 0.6799 - val_accuracy: 0.5833 - val_loss: 0.6793\n",
      "Epoch 26/1000\n",
      "\u001b[1m17/17\u001b[0m \u001b[32m━━━━━━━━━━━━━━━━━━━━\u001b[0m\u001b[37m\u001b[0m \u001b[1m1s\u001b[0m 43ms/step - accuracy: 0.5576 - loss: 0.6887 - val_accuracy: 0.5833 - val_loss: 0.6792\n",
      "Epoch 27/1000\n",
      "\u001b[1m17/17\u001b[0m \u001b[32m━━━━━━━━━━━━━━━━━━━━\u001b[0m\u001b[37m\u001b[0m \u001b[1m1s\u001b[0m 44ms/step - accuracy: 0.5837 - loss: 0.6778 - val_accuracy: 0.5833 - val_loss: 0.6793\n",
      "Epoch 28/1000\n",
      "\u001b[1m17/17\u001b[0m \u001b[32m━━━━━━━━━━━━━━━━━━━━\u001b[0m\u001b[37m\u001b[0m \u001b[1m1s\u001b[0m 45ms/step - accuracy: 0.5469 - loss: 0.6914 - val_accuracy: 0.5833 - val_loss: 0.6792\n",
      "Epoch 29/1000\n",
      "\u001b[1m17/17\u001b[0m \u001b[32m━━━━━━━━━━━━━━━━━━━━\u001b[0m\u001b[37m\u001b[0m \u001b[1m1s\u001b[0m 43ms/step - accuracy: 0.5853 - loss: 0.6790 - val_accuracy: 0.5833 - val_loss: 0.6810\n",
      "Epoch 30/1000\n",
      "\u001b[1m17/17\u001b[0m \u001b[32m━━━━━━━━━━━━━━━━━━━━\u001b[0m\u001b[37m\u001b[0m \u001b[1m1s\u001b[0m 46ms/step - accuracy: 0.5807 - loss: 0.6793 - val_accuracy: 0.5833 - val_loss: 0.6792\n",
      "Epoch 31/1000\n",
      "\u001b[1m17/17\u001b[0m \u001b[32m━━━━━━━━━━━━━━━━━━━━\u001b[0m\u001b[37m\u001b[0m \u001b[1m1s\u001b[0m 44ms/step - accuracy: 0.5684 - loss: 0.6803 - val_accuracy: 0.5833 - val_loss: 0.6792\n",
      "Epoch 32/1000\n",
      "\u001b[1m17/17\u001b[0m \u001b[32m━━━━━━━━━━━━━━━━━━━━\u001b[0m\u001b[37m\u001b[0m \u001b[1m1s\u001b[0m 45ms/step - accuracy: 0.5837 - loss: 0.6789 - val_accuracy: 0.5833 - val_loss: 0.6794\n",
      "Epoch 33/1000\n",
      "\u001b[1m17/17\u001b[0m \u001b[32m━━━━━━━━━━━━━━━━━━━━\u001b[0m\u001b[37m\u001b[0m \u001b[1m1s\u001b[0m 45ms/step - accuracy: 0.5583 - loss: 0.6849 - val_accuracy: 0.5833 - val_loss: 0.6792\n",
      "Epoch 34/1000\n",
      "\u001b[1m17/17\u001b[0m \u001b[32m━━━━━━━━━━━━━━━━━━━━\u001b[0m\u001b[37m\u001b[0m \u001b[1m1s\u001b[0m 44ms/step - accuracy: 0.5699 - loss: 0.6839 - val_accuracy: 0.5833 - val_loss: 0.6584\n",
      "Epoch 35/1000\n",
      "\u001b[1m17/17\u001b[0m \u001b[32m━━━━━━━━━━━━━━━━━━━━\u001b[0m\u001b[37m\u001b[0m \u001b[1m1s\u001b[0m 44ms/step - accuracy: 0.5499 - loss: 0.6915 - val_accuracy: 0.5833 - val_loss: 0.6795\n",
      "Epoch 36/1000\n",
      "\u001b[1m17/17\u001b[0m \u001b[32m━━━━━━━━━━━━━━━━━━━━\u001b[0m\u001b[37m\u001b[0m \u001b[1m1s\u001b[0m 44ms/step - accuracy: 0.6105 - loss: 0.6693 - val_accuracy: 0.5833 - val_loss: 0.6798\n",
      "Epoch 37/1000\n",
      "\u001b[1m17/17\u001b[0m \u001b[32m━━━━━━━━━━━━━━━━━━━━\u001b[0m\u001b[37m\u001b[0m \u001b[1m1s\u001b[0m 46ms/step - accuracy: 0.5846 - loss: 0.6802 - val_accuracy: 0.5833 - val_loss: 0.6793\n",
      "Epoch 38/1000\n",
      "\u001b[1m17/17\u001b[0m \u001b[32m━━━━━━━━━━━━━━━━━━━━\u001b[0m\u001b[37m\u001b[0m \u001b[1m1s\u001b[0m 44ms/step - accuracy: 0.5646 - loss: 0.6830 - val_accuracy: 0.5833 - val_loss: 0.6801\n",
      "Epoch 39/1000\n",
      "\u001b[1m17/17\u001b[0m \u001b[32m━━━━━━━━━━━━━━━━━━━━\u001b[0m\u001b[37m\u001b[0m \u001b[1m1s\u001b[0m 44ms/step - accuracy: 0.6132 - loss: 0.6671 - val_accuracy: 0.5833 - val_loss: 0.6793\n",
      "Epoch 40/1000\n",
      "\u001b[1m17/17\u001b[0m \u001b[32m━━━━━━━━━━━━━━━━━━━━\u001b[0m\u001b[37m\u001b[0m \u001b[1m1s\u001b[0m 46ms/step - accuracy: 0.5924 - loss: 0.6753 - val_accuracy: 0.5833 - val_loss: 0.6791\n",
      "Epoch 41/1000\n",
      "\u001b[1m17/17\u001b[0m \u001b[32m━━━━━━━━━━━━━━━━━━━━\u001b[0m\u001b[37m\u001b[0m \u001b[1m1s\u001b[0m 47ms/step - accuracy: 0.6093 - loss: 0.6706 - val_accuracy: 0.5833 - val_loss: 0.6678\n",
      "Epoch 42/1000\n",
      "\u001b[1m17/17\u001b[0m \u001b[32m━━━━━━━━━━━━━━━━━━━━\u001b[0m\u001b[37m\u001b[0m \u001b[1m1s\u001b[0m 46ms/step - accuracy: 0.6680 - loss: 0.6250 - val_accuracy: 0.7667 - val_loss: 0.6294\n",
      "Epoch 43/1000\n",
      "\u001b[1m17/17\u001b[0m \u001b[32m━━━━━━━━━━━━━━━━━━━━\u001b[0m\u001b[37m\u001b[0m \u001b[1m1s\u001b[0m 45ms/step - accuracy: 0.8654 - loss: 0.4233 - val_accuracy: 0.7333 - val_loss: 0.5311\n",
      "Epoch 44/1000\n",
      "\u001b[1m17/17\u001b[0m \u001b[32m━━━━━━━━━━━━━━━━━━━━\u001b[0m\u001b[37m\u001b[0m \u001b[1m1s\u001b[0m 45ms/step - accuracy: 0.8401 - loss: 0.3889 - val_accuracy: 0.7333 - val_loss: 0.5398\n",
      "Epoch 45/1000\n",
      "\u001b[1m17/17\u001b[0m \u001b[32m━━━━━━━━━━━━━━━━━━━━\u001b[0m\u001b[37m\u001b[0m \u001b[1m1s\u001b[0m 44ms/step - accuracy: 0.8128 - loss: 0.4253 - val_accuracy: 0.7333 - val_loss: 0.5550\n",
      "Epoch 46/1000\n",
      "\u001b[1m17/17\u001b[0m \u001b[32m━━━━━━━━━━━━━━━━━━━━\u001b[0m\u001b[37m\u001b[0m \u001b[1m1s\u001b[0m 46ms/step - accuracy: 0.8467 - loss: 0.3639 - val_accuracy: 0.7333 - val_loss: 0.5386\n",
      "Epoch 47/1000\n",
      "\u001b[1m17/17\u001b[0m \u001b[32m━━━━━━━━━━━━━━━━━━━━\u001b[0m\u001b[37m\u001b[0m \u001b[1m1s\u001b[0m 45ms/step - accuracy: 0.8254 - loss: 0.4091 - val_accuracy: 0.7333 - val_loss: 0.5504\n",
      "Epoch 48/1000\n",
      "\u001b[1m17/17\u001b[0m \u001b[32m━━━━━━━━━━━━━━━━━━━━\u001b[0m\u001b[37m\u001b[0m \u001b[1m1s\u001b[0m 46ms/step - accuracy: 0.8478 - loss: 0.3696 - val_accuracy: 0.7333 - val_loss: 0.5390\n",
      "Epoch 49/1000\n",
      "\u001b[1m17/17\u001b[0m \u001b[32m━━━━━━━━━━━━━━━━━━━━\u001b[0m\u001b[37m\u001b[0m \u001b[1m1s\u001b[0m 45ms/step - accuracy: 0.8343 - loss: 0.3894 - val_accuracy: 0.7333 - val_loss: 0.5542\n",
      "Epoch 50/1000\n",
      "\u001b[1m17/17\u001b[0m \u001b[32m━━━━━━━━━━━━━━━━━━━━\u001b[0m\u001b[37m\u001b[0m \u001b[1m1s\u001b[0m 45ms/step - accuracy: 0.8110 - loss: 0.4240 - val_accuracy: 0.7333 - val_loss: 0.5396\n",
      "Epoch 51/1000\n",
      "\u001b[1m17/17\u001b[0m \u001b[32m━━━━━━━━━━━━━━━━━━━━\u001b[0m\u001b[37m\u001b[0m \u001b[1m1s\u001b[0m 44ms/step - accuracy: 0.8310 - loss: 0.3899 - val_accuracy: 0.7333 - val_loss: 0.5433\n",
      "Epoch 52/1000\n",
      "\u001b[1m17/17\u001b[0m \u001b[32m━━━━━━━━━━━━━━━━━━━━\u001b[0m\u001b[37m\u001b[0m \u001b[1m1s\u001b[0m 47ms/step - accuracy: 0.8196 - loss: 0.4177 - val_accuracy: 0.7333 - val_loss: 0.5410\n",
      "Epoch 53/1000\n",
      "\u001b[1m17/17\u001b[0m \u001b[32m━━━━━━━━━━━━━━━━━━━━\u001b[0m\u001b[37m\u001b[0m \u001b[1m1s\u001b[0m 46ms/step - accuracy: 0.8263 - loss: 0.3921 - val_accuracy: 0.7333 - val_loss: 0.5413\n",
      "Epoch 54/1000\n",
      "\u001b[1m17/17\u001b[0m \u001b[32m━━━━━━━━━━━━━━━━━━━━\u001b[0m\u001b[37m\u001b[0m \u001b[1m1s\u001b[0m 45ms/step - accuracy: 0.7961 - loss: 0.4355 - val_accuracy: 0.7333 - val_loss: 0.5431\n",
      "Epoch 55/1000\n",
      "\u001b[1m17/17\u001b[0m \u001b[32m━━━━━━━━━━━━━━━━━━━━\u001b[0m\u001b[37m\u001b[0m \u001b[1m1s\u001b[0m 45ms/step - accuracy: 0.8447 - loss: 0.3769 - val_accuracy: 0.7333 - val_loss: 0.5510\n",
      "Epoch 56/1000\n",
      "\u001b[1m17/17\u001b[0m \u001b[32m━━━━━━━━━━━━━━━━━━━━\u001b[0m\u001b[37m\u001b[0m \u001b[1m1s\u001b[0m 46ms/step - accuracy: 0.8258 - loss: 0.4128 - val_accuracy: 0.7333 - val_loss: 0.5377\n",
      "Epoch 57/1000\n",
      "\u001b[1m17/17\u001b[0m \u001b[32m━━━━━━━━━━━━━━━━━━━━\u001b[0m\u001b[37m\u001b[0m \u001b[1m1s\u001b[0m 45ms/step - accuracy: 0.8214 - loss: 0.4127 - val_accuracy: 0.7333 - val_loss: 0.5471\n",
      "Epoch 58/1000\n",
      "\u001b[1m17/17\u001b[0m \u001b[32m━━━━━━━━━━━━━━━━━━━━\u001b[0m\u001b[37m\u001b[0m \u001b[1m1s\u001b[0m 45ms/step - accuracy: 0.8296 - loss: 0.3764 - val_accuracy: 0.7333 - val_loss: 0.5570\n",
      "Epoch 59/1000\n",
      "\u001b[1m17/17\u001b[0m \u001b[32m━━━━━━━━━━━━━━━━━━━━\u001b[0m\u001b[37m\u001b[0m \u001b[1m1s\u001b[0m 46ms/step - accuracy: 0.8369 - loss: 0.3888 - val_accuracy: 0.7333 - val_loss: 0.5435\n",
      "Epoch 60/1000\n",
      "\u001b[1m17/17\u001b[0m \u001b[32m━━━━━━━━━━━━━━━━━━━━\u001b[0m\u001b[37m\u001b[0m \u001b[1m1s\u001b[0m 45ms/step - accuracy: 0.8192 - loss: 0.4013 - val_accuracy: 0.7333 - val_loss: 0.5470\n",
      "Epoch 61/1000\n",
      "\u001b[1m17/17\u001b[0m \u001b[32m━━━━━━━━━━━━━━━━━━━━\u001b[0m\u001b[37m\u001b[0m \u001b[1m1s\u001b[0m 45ms/step - accuracy: 0.8145 - loss: 0.4233 - val_accuracy: 0.7333 - val_loss: 0.5501\n",
      "Epoch 62/1000\n",
      "\u001b[1m17/17\u001b[0m \u001b[32m━━━━━━━━━━━━━━━━━━━━\u001b[0m\u001b[37m\u001b[0m \u001b[1m1s\u001b[0m 45ms/step - accuracy: 0.8264 - loss: 0.4189 - val_accuracy: 0.7333 - val_loss: 0.5465\n",
      "Epoch 63/1000\n",
      "\u001b[1m17/17\u001b[0m \u001b[32m━━━━━━━━━━━━━━━━━━━━\u001b[0m\u001b[37m\u001b[0m \u001b[1m1s\u001b[0m 46ms/step - accuracy: 0.8155 - loss: 0.4337 - val_accuracy: 0.7333 - val_loss: 0.5385\n",
      "Epoch 64/1000\n",
      "\u001b[1m17/17\u001b[0m \u001b[32m━━━━━━━━━━━━━━━━━━━━\u001b[0m\u001b[37m\u001b[0m \u001b[1m1s\u001b[0m 46ms/step - accuracy: 0.8116 - loss: 0.4406 - val_accuracy: 0.7333 - val_loss: 0.5439\n",
      "Epoch 65/1000\n",
      "\u001b[1m17/17\u001b[0m \u001b[32m━━━━━━━━━━━━━━━━━━━━\u001b[0m\u001b[37m\u001b[0m \u001b[1m1s\u001b[0m 45ms/step - accuracy: 0.8417 - loss: 0.3867 - val_accuracy: 0.7333 - val_loss: 0.5422\n",
      "Epoch 66/1000\n",
      "\u001b[1m17/17\u001b[0m \u001b[32m━━━━━━━━━━━━━━━━━━━━\u001b[0m\u001b[37m\u001b[0m \u001b[1m1s\u001b[0m 45ms/step - accuracy: 0.8422 - loss: 0.3876 - val_accuracy: 0.7333 - val_loss: 0.5435\n",
      "Epoch 67/1000\n",
      "\u001b[1m17/17\u001b[0m \u001b[32m━━━━━━━━━━━━━━━━━━━━\u001b[0m\u001b[37m\u001b[0m \u001b[1m1s\u001b[0m 45ms/step - accuracy: 0.8217 - loss: 0.3953 - val_accuracy: 0.7333 - val_loss: 0.5413\n",
      "Epoch 68/1000\n",
      "\u001b[1m17/17\u001b[0m \u001b[32m━━━━━━━━━━━━━━━━━━━━\u001b[0m\u001b[37m\u001b[0m \u001b[1m1s\u001b[0m 46ms/step - accuracy: 0.8603 - loss: 0.3631 - val_accuracy: 0.7333 - val_loss: 0.5629\n",
      "Epoch 69/1000\n",
      "\u001b[1m17/17\u001b[0m \u001b[32m━━━━━━━━━━━━━━━━━━━━\u001b[0m\u001b[37m\u001b[0m \u001b[1m1s\u001b[0m 45ms/step - accuracy: 0.8594 - loss: 0.3501 - val_accuracy: 0.7333 - val_loss: 0.5430\n",
      "Epoch 70/1000\n",
      "\u001b[1m17/17\u001b[0m \u001b[32m━━━━━━━━━━━━━━━━━━━━\u001b[0m\u001b[37m\u001b[0m \u001b[1m1s\u001b[0m 43ms/step - accuracy: 0.8365 - loss: 0.3741 - val_accuracy: 0.7333 - val_loss: 0.5524\n",
      "Epoch 71/1000\n",
      "\u001b[1m17/17\u001b[0m \u001b[32m━━━━━━━━━━━━━━━━━━━━\u001b[0m\u001b[37m\u001b[0m \u001b[1m1s\u001b[0m 43ms/step - accuracy: 0.8394 - loss: 0.4173 - val_accuracy: 0.7333 - val_loss: 0.5498\n",
      "Epoch 72/1000\n",
      "\u001b[1m17/17\u001b[0m \u001b[32m━━━━━━━━━━━━━━━━━━━━\u001b[0m\u001b[37m\u001b[0m \u001b[1m1s\u001b[0m 44ms/step - accuracy: 0.8320 - loss: 0.3864 - val_accuracy: 0.7333 - val_loss: 0.5392\n",
      "Epoch 73/1000\n",
      "\u001b[1m17/17\u001b[0m \u001b[32m━━━━━━━━━━━━━━━━━━━━\u001b[0m\u001b[37m\u001b[0m \u001b[1m1s\u001b[0m 44ms/step - accuracy: 0.8504 - loss: 0.3692 - val_accuracy: 0.7333 - val_loss: 0.5504\n",
      "Epoch 74/1000\n",
      "\u001b[1m17/17\u001b[0m \u001b[32m━━━━━━━━━━━━━━━━━━━━\u001b[0m\u001b[37m\u001b[0m \u001b[1m1s\u001b[0m 44ms/step - accuracy: 0.8274 - loss: 0.4067 - val_accuracy: 0.7333 - val_loss: 0.5482\n",
      "Epoch 75/1000\n",
      "\u001b[1m17/17\u001b[0m \u001b[32m━━━━━━━━━━━━━━━━━━━━\u001b[0m\u001b[37m\u001b[0m \u001b[1m1s\u001b[0m 44ms/step - accuracy: 0.8172 - loss: 0.3997 - val_accuracy: 0.7333 - val_loss: 0.5436\n",
      "Epoch 76/1000\n",
      "\u001b[1m17/17\u001b[0m \u001b[32m━━━━━━━━━━━━━━━━━━━━\u001b[0m\u001b[37m\u001b[0m \u001b[1m1s\u001b[0m 43ms/step - accuracy: 0.8431 - loss: 0.3863 - val_accuracy: 0.7333 - val_loss: 0.5483\n",
      "Epoch 77/1000\n",
      "\u001b[1m17/17\u001b[0m \u001b[32m━━━━━━━━━━━━━━━━━━━━\u001b[0m\u001b[37m\u001b[0m \u001b[1m1s\u001b[0m 43ms/step - accuracy: 0.8505 - loss: 0.3626 - val_accuracy: 0.7333 - val_loss: 0.5483\n",
      "Epoch 78/1000\n",
      "\u001b[1m17/17\u001b[0m \u001b[32m━━━━━━━━━━━━━━━━━━━━\u001b[0m\u001b[37m\u001b[0m \u001b[1m1s\u001b[0m 44ms/step - accuracy: 0.8247 - loss: 0.3878 - val_accuracy: 0.7333 - val_loss: 0.5456\n",
      "Epoch 79/1000\n",
      "\u001b[1m17/17\u001b[0m \u001b[32m━━━━━━━━━━━━━━━━━━━━\u001b[0m\u001b[37m\u001b[0m \u001b[1m1s\u001b[0m 45ms/step - accuracy: 0.8390 - loss: 0.3684 - val_accuracy: 0.7333 - val_loss: 0.5609\n",
      "Epoch 80/1000\n",
      "\u001b[1m17/17\u001b[0m \u001b[32m━━━━━━━━━━━━━━━━━━━━\u001b[0m\u001b[37m\u001b[0m \u001b[1m1s\u001b[0m 43ms/step - accuracy: 0.8410 - loss: 0.3827 - val_accuracy: 0.7333 - val_loss: 0.5462\n",
      "Epoch 81/1000\n",
      "\u001b[1m17/17\u001b[0m \u001b[32m━━━━━━━━━━━━━━━━━━━━\u001b[0m\u001b[37m\u001b[0m \u001b[1m1s\u001b[0m 44ms/step - accuracy: 0.7784 - loss: 0.4528 - val_accuracy: 0.7333 - val_loss: 0.5467\n",
      "Epoch 82/1000\n",
      "\u001b[1m17/17\u001b[0m \u001b[32m━━━━━━━━━━━━━━━━━━━━\u001b[0m\u001b[37m\u001b[0m \u001b[1m1s\u001b[0m 45ms/step - accuracy: 0.8442 - loss: 0.3620 - val_accuracy: 0.7333 - val_loss: 0.5603\n",
      "Epoch 83/1000\n",
      "\u001b[1m17/17\u001b[0m \u001b[32m━━━━━━━━━━━━━━━━━━━━\u001b[0m\u001b[37m\u001b[0m \u001b[1m1s\u001b[0m 44ms/step - accuracy: 0.8406 - loss: 0.3870 - val_accuracy: 0.7333 - val_loss: 0.5492\n",
      "Epoch 84/1000\n",
      "\u001b[1m17/17\u001b[0m \u001b[32m━━━━━━━━━━━━━━━━━━━━\u001b[0m\u001b[37m\u001b[0m \u001b[1m1s\u001b[0m 50ms/step - accuracy: 0.8291 - loss: 0.4190 - val_accuracy: 0.7333 - val_loss: 0.5445\n",
      "Epoch 85/1000\n",
      "\u001b[1m17/17\u001b[0m \u001b[32m━━━━━━━━━━━━━━━━━━━━\u001b[0m\u001b[37m\u001b[0m \u001b[1m1s\u001b[0m 56ms/step - accuracy: 0.8234 - loss: 0.4075 - val_accuracy: 0.7333 - val_loss: 0.5510\n",
      "Epoch 86/1000\n",
      "\u001b[1m17/17\u001b[0m \u001b[32m━━━━━━━━━━━━━━━━━━━━\u001b[0m\u001b[37m\u001b[0m \u001b[1m1s\u001b[0m 47ms/step - accuracy: 0.8200 - loss: 0.4272 - val_accuracy: 0.7333 - val_loss: 0.5529\n",
      "Epoch 87/1000\n",
      "\u001b[1m17/17\u001b[0m \u001b[32m━━━━━━━━━━━━━━━━━━━━\u001b[0m\u001b[37m\u001b[0m \u001b[1m1s\u001b[0m 44ms/step - accuracy: 0.8561 - loss: 0.3836 - val_accuracy: 0.7333 - val_loss: 0.5475\n",
      "Epoch 88/1000\n",
      "\u001b[1m17/17\u001b[0m \u001b[32m━━━━━━━━━━━━━━━━━━━━\u001b[0m\u001b[37m\u001b[0m \u001b[1m1s\u001b[0m 46ms/step - accuracy: 0.8227 - loss: 0.3933 - val_accuracy: 0.7333 - val_loss: 0.5468\n",
      "Epoch 89/1000\n",
      "\u001b[1m17/17\u001b[0m \u001b[32m━━━━━━━━━━━━━━━━━━━━\u001b[0m\u001b[37m\u001b[0m \u001b[1m1s\u001b[0m 46ms/step - accuracy: 0.8316 - loss: 0.3745 - val_accuracy: 0.7333 - val_loss: 0.5551\n",
      "Epoch 90/1000\n",
      "\u001b[1m17/17\u001b[0m \u001b[32m━━━━━━━━━━━━━━━━━━━━\u001b[0m\u001b[37m\u001b[0m \u001b[1m1s\u001b[0m 45ms/step - accuracy: 0.8284 - loss: 0.4024 - val_accuracy: 0.7333 - val_loss: 0.5567\n",
      "Epoch 91/1000\n",
      "\u001b[1m17/17\u001b[0m \u001b[32m━━━━━━━━━━━━━━━━━━━━\u001b[0m\u001b[37m\u001b[0m \u001b[1m1s\u001b[0m 43ms/step - accuracy: 0.8199 - loss: 0.4080 - val_accuracy: 0.7333 - val_loss: 0.5534\n",
      "Epoch 92/1000\n",
      "\u001b[1m17/17\u001b[0m \u001b[32m━━━━━━━━━━━━━━━━━━━━\u001b[0m\u001b[37m\u001b[0m \u001b[1m1s\u001b[0m 44ms/step - accuracy: 0.8371 - loss: 0.3902 - val_accuracy: 0.7333 - val_loss: 0.5470\n",
      "Epoch 93/1000\n",
      "\u001b[1m17/17\u001b[0m \u001b[32m━━━━━━━━━━━━━━━━━━━━\u001b[0m\u001b[37m\u001b[0m \u001b[1m1s\u001b[0m 43ms/step - accuracy: 0.8206 - loss: 0.3820 - val_accuracy: 0.7333 - val_loss: 0.5531\n",
      "Epoch 94/1000\n",
      "\u001b[1m17/17\u001b[0m \u001b[32m━━━━━━━━━━━━━━━━━━━━\u001b[0m\u001b[37m\u001b[0m \u001b[1m1s\u001b[0m 42ms/step - accuracy: 0.8342 - loss: 0.3831 - val_accuracy: 0.7333 - val_loss: 0.5578\n",
      "Epoch 95/1000\n",
      "\u001b[1m17/17\u001b[0m \u001b[32m━━━━━━━━━━━━━━━━━━━━\u001b[0m\u001b[37m\u001b[0m \u001b[1m1s\u001b[0m 47ms/step - accuracy: 0.8424 - loss: 0.3624 - val_accuracy: 0.7333 - val_loss: 0.5519\n",
      "Epoch 96/1000\n",
      "\u001b[1m17/17\u001b[0m \u001b[32m━━━━━━━━━━━━━━━━━━━━\u001b[0m\u001b[37m\u001b[0m \u001b[1m1s\u001b[0m 43ms/step - accuracy: 0.8281 - loss: 0.4011 - val_accuracy: 0.7333 - val_loss: 0.5510\n",
      "Epoch 97/1000\n",
      "\u001b[1m17/17\u001b[0m \u001b[32m━━━━━━━━━━━━━━━━━━━━\u001b[0m\u001b[37m\u001b[0m \u001b[1m1s\u001b[0m 44ms/step - accuracy: 0.8371 - loss: 0.3864 - val_accuracy: 0.7333 - val_loss: 0.5530\n",
      "Epoch 98/1000\n",
      "\u001b[1m17/17\u001b[0m \u001b[32m━━━━━━━━━━━━━━━━━━━━\u001b[0m\u001b[37m\u001b[0m \u001b[1m1s\u001b[0m 44ms/step - accuracy: 0.8501 - loss: 0.3681 - val_accuracy: 0.7333 - val_loss: 0.5547\n",
      "Epoch 99/1000\n",
      "\u001b[1m17/17\u001b[0m \u001b[32m━━━━━━━━━━━━━━━━━━━━\u001b[0m\u001b[37m\u001b[0m \u001b[1m1s\u001b[0m 44ms/step - accuracy: 0.8317 - loss: 0.3865 - val_accuracy: 0.7333 - val_loss: 0.5489\n",
      "Epoch 100/1000\n",
      "\u001b[1m17/17\u001b[0m \u001b[32m━━━━━━━━━━━━━━━━━━━━\u001b[0m\u001b[37m\u001b[0m \u001b[1m1s\u001b[0m 46ms/step - accuracy: 0.8514 - loss: 0.3781 - val_accuracy: 0.7333 - val_loss: 0.5578\n",
      "Epoch 101/1000\n",
      "\u001b[1m17/17\u001b[0m \u001b[32m━━━━━━━━━━━━━━━━━━━━\u001b[0m\u001b[37m\u001b[0m \u001b[1m1s\u001b[0m 44ms/step - accuracy: 0.8306 - loss: 0.3884 - val_accuracy: 0.7333 - val_loss: 0.5509\n",
      "Epoch 102/1000\n",
      "\u001b[1m17/17\u001b[0m \u001b[32m━━━━━━━━━━━━━━━━━━━━\u001b[0m\u001b[37m\u001b[0m \u001b[1m1s\u001b[0m 43ms/step - accuracy: 0.8474 - loss: 0.3747 - val_accuracy: 0.7333 - val_loss: 0.5540\n",
      "Epoch 103/1000\n",
      "\u001b[1m17/17\u001b[0m \u001b[32m━━━━━━━━━━━━━━━━━━━━\u001b[0m\u001b[37m\u001b[0m \u001b[1m1s\u001b[0m 43ms/step - accuracy: 0.8449 - loss: 0.3695 - val_accuracy: 0.7333 - val_loss: 0.5496\n",
      "Epoch 104/1000\n",
      "\u001b[1m17/17\u001b[0m \u001b[32m━━━━━━━━━━━━━━━━━━━━\u001b[0m\u001b[37m\u001b[0m \u001b[1m1s\u001b[0m 44ms/step - accuracy: 0.8174 - loss: 0.4111 - val_accuracy: 0.7333 - val_loss: 0.5518\n",
      "Epoch 105/1000\n",
      "\u001b[1m17/17\u001b[0m \u001b[32m━━━━━━━━━━━━━━━━━━━━\u001b[0m\u001b[37m\u001b[0m \u001b[1m1s\u001b[0m 45ms/step - accuracy: 0.8444 - loss: 0.3915 - val_accuracy: 0.7333 - val_loss: 0.5550\n",
      "Epoch 106/1000\n",
      "\u001b[1m17/17\u001b[0m \u001b[32m━━━━━━━━━━━━━━━━━━━━\u001b[0m\u001b[37m\u001b[0m \u001b[1m1s\u001b[0m 43ms/step - accuracy: 0.8363 - loss: 0.4129 - val_accuracy: 0.7333 - val_loss: 0.5418\n",
      "Epoch 107/1000\n",
      "\u001b[1m17/17\u001b[0m \u001b[32m━━━━━━━━━━━━━━━━━━━━\u001b[0m\u001b[37m\u001b[0m \u001b[1m1s\u001b[0m 43ms/step - accuracy: 0.8344 - loss: 0.3638 - val_accuracy: 0.7333 - val_loss: 0.5554\n",
      "Epoch 108/1000\n",
      "\u001b[1m17/17\u001b[0m \u001b[32m━━━━━━━━━━━━━━━━━━━━\u001b[0m\u001b[37m\u001b[0m \u001b[1m1s\u001b[0m 43ms/step - accuracy: 0.8369 - loss: 0.3937 - val_accuracy: 0.7333 - val_loss: 0.5527\n",
      "Epoch 109/1000\n",
      "\u001b[1m17/17\u001b[0m \u001b[32m━━━━━━━━━━━━━━━━━━━━\u001b[0m\u001b[37m\u001b[0m \u001b[1m1s\u001b[0m 44ms/step - accuracy: 0.8154 - loss: 0.4025 - val_accuracy: 0.7333 - val_loss: 0.5481\n",
      "Epoch 110/1000\n",
      "\u001b[1m17/17\u001b[0m \u001b[32m━━━━━━━━━━━━━━━━━━━━\u001b[0m\u001b[37m\u001b[0m \u001b[1m1s\u001b[0m 44ms/step - accuracy: 0.8354 - loss: 0.3924 - val_accuracy: 0.7333 - val_loss: 0.5661\n",
      "Epoch 111/1000\n",
      "\u001b[1m17/17\u001b[0m \u001b[32m━━━━━━━━━━━━━━━━━━━━\u001b[0m\u001b[37m\u001b[0m \u001b[1m1s\u001b[0m 44ms/step - accuracy: 0.8406 - loss: 0.3807 - val_accuracy: 0.7333 - val_loss: 0.5526\n",
      "Epoch 112/1000\n",
      "\u001b[1m17/17\u001b[0m \u001b[32m━━━━━━━━━━━━━━━━━━━━\u001b[0m\u001b[37m\u001b[0m \u001b[1m1s\u001b[0m 43ms/step - accuracy: 0.8443 - loss: 0.3895 - val_accuracy: 0.7333 - val_loss: 0.5489\n",
      "Epoch 113/1000\n",
      "\u001b[1m17/17\u001b[0m \u001b[32m━━━━━━━━━━━━━━━━━━━━\u001b[0m\u001b[37m\u001b[0m \u001b[1m1s\u001b[0m 43ms/step - accuracy: 0.8445 - loss: 0.3732 - val_accuracy: 0.7333 - val_loss: 0.5490\n",
      "Epoch 114/1000\n",
      "\u001b[1m17/17\u001b[0m \u001b[32m━━━━━━━━━━━━━━━━━━━━\u001b[0m\u001b[37m\u001b[0m \u001b[1m1s\u001b[0m 43ms/step - accuracy: 0.8410 - loss: 0.3917 - val_accuracy: 0.7333 - val_loss: 0.5537\n",
      "Epoch 115/1000\n",
      "\u001b[1m17/17\u001b[0m \u001b[32m━━━━━━━━━━━━━━━━━━━━\u001b[0m\u001b[37m\u001b[0m \u001b[1m1s\u001b[0m 45ms/step - accuracy: 0.8521 - loss: 0.3655 - val_accuracy: 0.7333 - val_loss: 0.5581\n",
      "Epoch 116/1000\n",
      "\u001b[1m17/17\u001b[0m \u001b[32m━━━━━━━━━━━━━━━━━━━━\u001b[0m\u001b[37m\u001b[0m \u001b[1m1s\u001b[0m 43ms/step - accuracy: 0.8238 - loss: 0.4082 - val_accuracy: 0.7333 - val_loss: 0.5480\n",
      "Epoch 117/1000\n",
      "\u001b[1m17/17\u001b[0m \u001b[32m━━━━━━━━━━━━━━━━━━━━\u001b[0m\u001b[37m\u001b[0m \u001b[1m1s\u001b[0m 44ms/step - accuracy: 0.8459 - loss: 0.3750 - val_accuracy: 0.7333 - val_loss: 0.5521\n",
      "Epoch 118/1000\n",
      "\u001b[1m17/17\u001b[0m \u001b[32m━━━━━━━━━━━━━━━━━━━━\u001b[0m\u001b[37m\u001b[0m \u001b[1m1s\u001b[0m 45ms/step - accuracy: 0.8396 - loss: 0.3782 - val_accuracy: 0.7333 - val_loss: 0.5514\n",
      "Epoch 119/1000\n",
      "\u001b[1m17/17\u001b[0m \u001b[32m━━━━━━━━━━━━━━━━━━━━\u001b[0m\u001b[37m\u001b[0m \u001b[1m1s\u001b[0m 44ms/step - accuracy: 0.8224 - loss: 0.4200 - val_accuracy: 0.7333 - val_loss: 0.5519\n",
      "Epoch 120/1000\n",
      "\u001b[1m17/17\u001b[0m \u001b[32m━━━━━━━━━━━━━━━━━━━━\u001b[0m\u001b[37m\u001b[0m \u001b[1m1s\u001b[0m 45ms/step - accuracy: 0.8573 - loss: 0.3551 - val_accuracy: 0.7333 - val_loss: 0.5596\n",
      "Epoch 121/1000\n",
      "\u001b[1m17/17\u001b[0m \u001b[32m━━━━━━━━━━━━━━━━━━━━\u001b[0m\u001b[37m\u001b[0m \u001b[1m1s\u001b[0m 43ms/step - accuracy: 0.8389 - loss: 0.4011 - val_accuracy: 0.7333 - val_loss: 0.5507\n",
      "Epoch 122/1000\n",
      "\u001b[1m17/17\u001b[0m \u001b[32m━━━━━━━━━━━━━━━━━━━━\u001b[0m\u001b[37m\u001b[0m \u001b[1m1s\u001b[0m 43ms/step - accuracy: 0.8501 - loss: 0.3848 - val_accuracy: 0.7333 - val_loss: 0.5503\n",
      "Epoch 123/1000\n",
      "\u001b[1m17/17\u001b[0m \u001b[32m━━━━━━━━━━━━━━━━━━━━\u001b[0m\u001b[37m\u001b[0m \u001b[1m1s\u001b[0m 43ms/step - accuracy: 0.8222 - loss: 0.4188 - val_accuracy: 0.7333 - val_loss: 0.5506\n",
      "Epoch 124/1000\n",
      "\u001b[1m17/17\u001b[0m \u001b[32m━━━━━━━━━━━━━━━━━━━━\u001b[0m\u001b[37m\u001b[0m \u001b[1m1s\u001b[0m 44ms/step - accuracy: 0.8445 - loss: 0.3693 - val_accuracy: 0.7333 - val_loss: 0.5486\n",
      "Epoch 125/1000\n",
      "\u001b[1m17/17\u001b[0m \u001b[32m━━━━━━━━━━━━━━━━━━━━\u001b[0m\u001b[37m\u001b[0m \u001b[1m1s\u001b[0m 45ms/step - accuracy: 0.8674 - loss: 0.3329 - val_accuracy: 0.7333 - val_loss: 0.5608\n",
      "Epoch 126/1000\n",
      "\u001b[1m17/17\u001b[0m \u001b[32m━━━━━━━━━━━━━━━━━━━━\u001b[0m\u001b[37m\u001b[0m \u001b[1m1s\u001b[0m 43ms/step - accuracy: 0.8296 - loss: 0.3920 - val_accuracy: 0.7333 - val_loss: 0.5574\n",
      "Epoch 127/1000\n",
      "\u001b[1m17/17\u001b[0m \u001b[32m━━━━━━━━━━━━━━━━━━━━\u001b[0m\u001b[37m\u001b[0m \u001b[1m1s\u001b[0m 45ms/step - accuracy: 0.8308 - loss: 0.4141 - val_accuracy: 0.7333 - val_loss: 0.5551\n",
      "Epoch 128/1000\n",
      "\u001b[1m17/17\u001b[0m \u001b[32m━━━━━━━━━━━━━━━━━━━━\u001b[0m\u001b[37m\u001b[0m \u001b[1m1s\u001b[0m 45ms/step - accuracy: 0.8721 - loss: 0.3381 - val_accuracy: 0.7333 - val_loss: 0.5639\n",
      "Epoch 129/1000\n",
      "\u001b[1m17/17\u001b[0m \u001b[32m━━━━━━━━━━━━━━━━━━━━\u001b[0m\u001b[37m\u001b[0m \u001b[1m1s\u001b[0m 45ms/step - accuracy: 0.8292 - loss: 0.3851 - val_accuracy: 0.7333 - val_loss: 0.5478\n",
      "Epoch 130/1000\n",
      "\u001b[1m17/17\u001b[0m \u001b[32m━━━━━━━━━━━━━━━━━━━━\u001b[0m\u001b[37m\u001b[0m \u001b[1m1s\u001b[0m 45ms/step - accuracy: 0.8382 - loss: 0.3935 - val_accuracy: 0.7333 - val_loss: 0.5506\n",
      "Epoch 131/1000\n",
      "\u001b[1m17/17\u001b[0m \u001b[32m━━━━━━━━━━━━━━━━━━━━\u001b[0m\u001b[37m\u001b[0m \u001b[1m1s\u001b[0m 44ms/step - accuracy: 0.8412 - loss: 0.3633 - val_accuracy: 0.7333 - val_loss: 0.5590\n",
      "Epoch 132/1000\n",
      "\u001b[1m17/17\u001b[0m \u001b[32m━━━━━━━━━━━━━━━━━━━━\u001b[0m\u001b[37m\u001b[0m \u001b[1m1s\u001b[0m 46ms/step - accuracy: 0.8576 - loss: 0.3606 - val_accuracy: 0.7333 - val_loss: 0.5567\n",
      "Epoch 133/1000\n",
      "\u001b[1m17/17\u001b[0m \u001b[32m━━━━━━━━━━━━━━━━━━━━\u001b[0m\u001b[37m\u001b[0m \u001b[1m1s\u001b[0m 44ms/step - accuracy: 0.8386 - loss: 0.3712 - val_accuracy: 0.7333 - val_loss: 0.5542\n",
      "Epoch 134/1000\n",
      "\u001b[1m17/17\u001b[0m \u001b[32m━━━━━━━━━━━━━━━━━━━━\u001b[0m\u001b[37m\u001b[0m \u001b[1m1s\u001b[0m 47ms/step - accuracy: 0.8274 - loss: 0.3995 - val_accuracy: 0.7333 - val_loss: 0.5561\n",
      "Epoch 135/1000\n",
      "\u001b[1m17/17\u001b[0m \u001b[32m━━━━━━━━━━━━━━━━━━━━\u001b[0m\u001b[37m\u001b[0m \u001b[1m1s\u001b[0m 46ms/step - accuracy: 0.8268 - loss: 0.4007 - val_accuracy: 0.7333 - val_loss: 0.5633\n",
      "Epoch 136/1000\n",
      "\u001b[1m17/17\u001b[0m \u001b[32m━━━━━━━━━━━━━━━━━━━━\u001b[0m\u001b[37m\u001b[0m \u001b[1m1s\u001b[0m 45ms/step - accuracy: 0.8134 - loss: 0.4421 - val_accuracy: 0.7333 - val_loss: 0.5574\n",
      "Epoch 137/1000\n",
      "\u001b[1m17/17\u001b[0m \u001b[32m━━━━━━━━━━━━━━━━━━━━\u001b[0m\u001b[37m\u001b[0m \u001b[1m1s\u001b[0m 45ms/step - accuracy: 0.8071 - loss: 0.4504 - val_accuracy: 0.7333 - val_loss: 0.5477\n",
      "Epoch 138/1000\n",
      "\u001b[1m17/17\u001b[0m \u001b[32m━━━━━━━━━━━━━━━━━━━━\u001b[0m\u001b[37m\u001b[0m \u001b[1m1s\u001b[0m 45ms/step - accuracy: 0.8236 - loss: 0.4208 - val_accuracy: 0.7333 - val_loss: 0.5482\n",
      "Epoch 139/1000\n",
      "\u001b[1m17/17\u001b[0m \u001b[32m━━━━━━━━━━━━━━━━━━━━\u001b[0m\u001b[37m\u001b[0m \u001b[1m1s\u001b[0m 45ms/step - accuracy: 0.8476 - loss: 0.3539 - val_accuracy: 0.7333 - val_loss: 0.5533\n",
      "Epoch 140/1000\n",
      "\u001b[1m17/17\u001b[0m \u001b[32m━━━━━━━━━━━━━━━━━━━━\u001b[0m\u001b[37m\u001b[0m \u001b[1m1s\u001b[0m 45ms/step - accuracy: 0.8186 - loss: 0.3860 - val_accuracy: 0.7333 - val_loss: 0.5519\n",
      "Epoch 141/1000\n",
      "\u001b[1m17/17\u001b[0m \u001b[32m━━━━━━━━━━━━━━━━━━━━\u001b[0m\u001b[37m\u001b[0m \u001b[1m1s\u001b[0m 46ms/step - accuracy: 0.8491 - loss: 0.3489 - val_accuracy: 0.7333 - val_loss: 0.5630\n",
      "Epoch 142/1000\n",
      "\u001b[1m17/17\u001b[0m \u001b[32m━━━━━━━━━━━━━━━━━━━━\u001b[0m\u001b[37m\u001b[0m \u001b[1m1s\u001b[0m 44ms/step - accuracy: 0.8549 - loss: 0.3550 - val_accuracy: 0.7333 - val_loss: 0.5548\n",
      "Epoch 143/1000\n",
      "\u001b[1m17/17\u001b[0m \u001b[32m━━━━━━━━━━━━━━━━━━━━\u001b[0m\u001b[37m\u001b[0m \u001b[1m1s\u001b[0m 45ms/step - accuracy: 0.8606 - loss: 0.3554 - val_accuracy: 0.7333 - val_loss: 0.5568\n",
      "Epoch 144/1000\n",
      "\u001b[1m17/17\u001b[0m \u001b[32m━━━━━━━━━━━━━━━━━━━━\u001b[0m\u001b[37m\u001b[0m \u001b[1m1s\u001b[0m 43ms/step - accuracy: 0.8562 - loss: 0.3603 - val_accuracy: 0.7333 - val_loss: 0.5593\n",
      "Epoch 145/1000\n",
      "\u001b[1m17/17\u001b[0m \u001b[32m━━━━━━━━━━━━━━━━━━━━\u001b[0m\u001b[37m\u001b[0m \u001b[1m1s\u001b[0m 43ms/step - accuracy: 0.8352 - loss: 0.3861 - val_accuracy: 0.7333 - val_loss: 0.5507\n",
      "Epoch 146/1000\n",
      "\u001b[1m17/17\u001b[0m \u001b[32m━━━━━━━━━━━━━━━━━━━━\u001b[0m\u001b[37m\u001b[0m \u001b[1m1s\u001b[0m 44ms/step - accuracy: 0.8567 - loss: 0.3651 - val_accuracy: 0.7333 - val_loss: 0.5606\n",
      "Epoch 147/1000\n",
      "\u001b[1m17/17\u001b[0m \u001b[32m━━━━━━━━━━━━━━━━━━━━\u001b[0m\u001b[37m\u001b[0m \u001b[1m1s\u001b[0m 44ms/step - accuracy: 0.8574 - loss: 0.3504 - val_accuracy: 0.7333 - val_loss: 0.5582\n",
      "Epoch 148/1000\n",
      "\u001b[1m17/17\u001b[0m \u001b[32m━━━━━━━━━━━━━━━━━━━━\u001b[0m\u001b[37m\u001b[0m \u001b[1m1s\u001b[0m 43ms/step - accuracy: 0.8417 - loss: 0.3717 - val_accuracy: 0.7333 - val_loss: 0.5536\n",
      "Epoch 149/1000\n",
      "\u001b[1m17/17\u001b[0m \u001b[32m━━━━━━━━━━━━━━━━━━━━\u001b[0m\u001b[37m\u001b[0m \u001b[1m1s\u001b[0m 44ms/step - accuracy: 0.8498 - loss: 0.3553 - val_accuracy: 0.7333 - val_loss: 0.5578\n",
      "Epoch 150/1000\n",
      "\u001b[1m17/17\u001b[0m \u001b[32m━━━━━━━━━━━━━━━━━━━━\u001b[0m\u001b[37m\u001b[0m \u001b[1m1s\u001b[0m 44ms/step - accuracy: 0.8573 - loss: 0.3446 - val_accuracy: 0.7333 - val_loss: 0.5567\n",
      "Epoch 151/1000\n",
      "\u001b[1m17/17\u001b[0m \u001b[32m━━━━━━━━━━━━━━━━━━━━\u001b[0m\u001b[37m\u001b[0m \u001b[1m1s\u001b[0m 43ms/step - accuracy: 0.8583 - loss: 0.3556 - val_accuracy: 0.7333 - val_loss: 0.5577\n",
      "Epoch 152/1000\n",
      "\u001b[1m17/17\u001b[0m \u001b[32m━━━━━━━━━━━━━━━━━━━━\u001b[0m\u001b[37m\u001b[0m \u001b[1m1s\u001b[0m 45ms/step - accuracy: 0.8629 - loss: 0.3506 - val_accuracy: 0.7333 - val_loss: 0.5524\n",
      "Epoch 153/1000\n",
      "\u001b[1m17/17\u001b[0m \u001b[32m━━━━━━━━━━━━━━━━━━━━\u001b[0m\u001b[37m\u001b[0m \u001b[1m1s\u001b[0m 44ms/step - accuracy: 0.8783 - loss: 0.3219 - val_accuracy: 0.7333 - val_loss: 0.5478\n",
      "Epoch 154/1000\n",
      "\u001b[1m17/17\u001b[0m \u001b[32m━━━━━━━━━━━━━━━━━━━━\u001b[0m\u001b[37m\u001b[0m \u001b[1m1s\u001b[0m 43ms/step - accuracy: 0.8438 - loss: 0.3627 - val_accuracy: 0.7333 - val_loss: 0.5547\n",
      "Epoch 155/1000\n",
      "\u001b[1m17/17\u001b[0m \u001b[32m━━━━━━━━━━━━━━━━━━━━\u001b[0m\u001b[37m\u001b[0m \u001b[1m1s\u001b[0m 44ms/step - accuracy: 0.8538 - loss: 0.3543 - val_accuracy: 0.7333 - val_loss: 0.5590\n",
      "Epoch 156/1000\n",
      "\u001b[1m17/17\u001b[0m \u001b[32m━━━━━━━━━━━━━━━━━━━━\u001b[0m\u001b[37m\u001b[0m \u001b[1m1s\u001b[0m 45ms/step - accuracy: 0.8457 - loss: 0.3690 - val_accuracy: 0.7333 - val_loss: 0.5518\n",
      "Epoch 157/1000\n",
      "\u001b[1m17/17\u001b[0m \u001b[32m━━━━━━━━━━━━━━━━━━━━\u001b[0m\u001b[37m\u001b[0m \u001b[1m1s\u001b[0m 43ms/step - accuracy: 0.8389 - loss: 0.3817 - val_accuracy: 0.7333 - val_loss: 0.5503\n",
      "Epoch 158/1000\n",
      "\u001b[1m17/17\u001b[0m \u001b[32m━━━━━━━━━━━━━━━━━━━━\u001b[0m\u001b[37m\u001b[0m \u001b[1m1s\u001b[0m 44ms/step - accuracy: 0.8637 - loss: 0.3500 - val_accuracy: 0.7333 - val_loss: 0.5649\n",
      "Epoch 159/1000\n",
      "\u001b[1m17/17\u001b[0m \u001b[32m━━━━━━━━━━━━━━━━━━━━\u001b[0m\u001b[37m\u001b[0m \u001b[1m1s\u001b[0m 43ms/step - accuracy: 0.8504 - loss: 0.3894 - val_accuracy: 0.7333 - val_loss: 0.5463\n",
      "Epoch 160/1000\n",
      "\u001b[1m17/17\u001b[0m \u001b[32m━━━━━━━━━━━━━━━━━━━━\u001b[0m\u001b[37m\u001b[0m \u001b[1m1s\u001b[0m 44ms/step - accuracy: 0.8403 - loss: 0.3772 - val_accuracy: 0.7333 - val_loss: 0.5488\n",
      "Epoch 161/1000\n",
      "\u001b[1m17/17\u001b[0m \u001b[32m━━━━━━━━━━━━━━━━━━━━\u001b[0m\u001b[37m\u001b[0m \u001b[1m1s\u001b[0m 46ms/step - accuracy: 0.8429 - loss: 0.3693 - val_accuracy: 0.7333 - val_loss: 0.5653\n",
      "Epoch 162/1000\n",
      "\u001b[1m17/17\u001b[0m \u001b[32m━━━━━━━━━━━━━━━━━━━━\u001b[0m\u001b[37m\u001b[0m \u001b[1m1s\u001b[0m 43ms/step - accuracy: 0.8366 - loss: 0.3699 - val_accuracy: 0.7333 - val_loss: 0.5550\n",
      "Epoch 163/1000\n",
      "\u001b[1m17/17\u001b[0m \u001b[32m━━━━━━━━━━━━━━━━━━━━\u001b[0m\u001b[37m\u001b[0m \u001b[1m1s\u001b[0m 44ms/step - accuracy: 0.8516 - loss: 0.3668 - val_accuracy: 0.7333 - val_loss: 0.5560\n",
      "Epoch 164/1000\n",
      "\u001b[1m17/17\u001b[0m \u001b[32m━━━━━━━━━━━━━━━━━━━━\u001b[0m\u001b[37m\u001b[0m \u001b[1m1s\u001b[0m 44ms/step - accuracy: 0.8216 - loss: 0.4002 - val_accuracy: 0.7333 - val_loss: 0.5562\n",
      "Epoch 165/1000\n",
      "\u001b[1m17/17\u001b[0m \u001b[32m━━━━━━━━━━━━━━━━━━━━\u001b[0m\u001b[37m\u001b[0m \u001b[1m1s\u001b[0m 45ms/step - accuracy: 0.8543 - loss: 0.3531 - val_accuracy: 0.7333 - val_loss: 0.5578\n",
      "Epoch 166/1000\n",
      "\u001b[1m17/17\u001b[0m \u001b[32m━━━━━━━━━━━━━━━━━━━━\u001b[0m\u001b[37m\u001b[0m \u001b[1m1s\u001b[0m 46ms/step - accuracy: 0.8482 - loss: 0.3663 - val_accuracy: 0.7333 - val_loss: 0.5558\n",
      "Epoch 167/1000\n",
      "\u001b[1m17/17\u001b[0m \u001b[32m━━━━━━━━━━━━━━━━━━━━\u001b[0m\u001b[37m\u001b[0m \u001b[1m1s\u001b[0m 52ms/step - accuracy: 0.8265 - loss: 0.4108 - val_accuracy: 0.7333 - val_loss: 0.5480\n",
      "Epoch 168/1000\n",
      "\u001b[1m17/17\u001b[0m \u001b[32m━━━━━━━━━━━━━━━━━━━━\u001b[0m\u001b[37m\u001b[0m \u001b[1m1s\u001b[0m 58ms/step - accuracy: 0.8372 - loss: 0.3841 - val_accuracy: 0.7333 - val_loss: 0.5599\n",
      "Epoch 169/1000\n",
      "\u001b[1m17/17\u001b[0m \u001b[32m━━━━━━━━━━━━━━━━━━━━\u001b[0m\u001b[37m\u001b[0m \u001b[1m1s\u001b[0m 60ms/step - accuracy: 0.8488 - loss: 0.3706 - val_accuracy: 0.7333 - val_loss: 0.5639\n",
      "Epoch 170/1000\n",
      "\u001b[1m17/17\u001b[0m \u001b[32m━━━━━━━━━━━━━━━━━━━━\u001b[0m\u001b[37m\u001b[0m \u001b[1m1s\u001b[0m 61ms/step - accuracy: 0.8440 - loss: 0.3732 - val_accuracy: 0.7333 - val_loss: 0.5489\n",
      "Epoch 171/1000\n",
      "\u001b[1m17/17\u001b[0m \u001b[32m━━━━━━━━━━━━━━━━━━━━\u001b[0m\u001b[37m\u001b[0m \u001b[1m1s\u001b[0m 62ms/step - accuracy: 0.8224 - loss: 0.4023 - val_accuracy: 0.7333 - val_loss: 0.5513\n",
      "Epoch 172/1000\n",
      "\u001b[1m17/17\u001b[0m \u001b[32m━━━━━━━━━━━━━━━━━━━━\u001b[0m\u001b[37m\u001b[0m \u001b[1m1s\u001b[0m 62ms/step - accuracy: 0.8592 - loss: 0.3595 - val_accuracy: 0.7333 - val_loss: 0.5626\n",
      "Epoch 173/1000\n",
      "\u001b[1m17/17\u001b[0m \u001b[32m━━━━━━━━━━━━━━━━━━━━\u001b[0m\u001b[37m\u001b[0m \u001b[1m1s\u001b[0m 52ms/step - accuracy: 0.8370 - loss: 0.3797 - val_accuracy: 0.7333 - val_loss: 0.5531\n",
      "Epoch 174/1000\n",
      "\u001b[1m17/17\u001b[0m \u001b[32m━━━━━━━━━━━━━━━━━━━━\u001b[0m\u001b[37m\u001b[0m \u001b[1m1s\u001b[0m 44ms/step - accuracy: 0.8484 - loss: 0.3659 - val_accuracy: 0.7333 - val_loss: 0.5573\n",
      "Epoch 175/1000\n",
      "\u001b[1m17/17\u001b[0m \u001b[32m━━━━━━━━━━━━━━━━━━━━\u001b[0m\u001b[37m\u001b[0m \u001b[1m1s\u001b[0m 44ms/step - accuracy: 0.8465 - loss: 0.3771 - val_accuracy: 0.7333 - val_loss: 0.5505\n",
      "Epoch 176/1000\n",
      "\u001b[1m17/17\u001b[0m \u001b[32m━━━━━━━━━━━━━━━━━━━━\u001b[0m\u001b[37m\u001b[0m \u001b[1m1s\u001b[0m 44ms/step - accuracy: 0.8260 - loss: 0.4010 - val_accuracy: 0.7333 - val_loss: 0.5530\n",
      "Epoch 177/1000\n",
      "\u001b[1m17/17\u001b[0m \u001b[32m━━━━━━━━━━━━━━━━━━━━\u001b[0m\u001b[37m\u001b[0m \u001b[1m1s\u001b[0m 44ms/step - accuracy: 0.8375 - loss: 0.3887 - val_accuracy: 0.7333 - val_loss: 0.5638\n",
      "Epoch 178/1000\n",
      "\u001b[1m17/17\u001b[0m \u001b[32m━━━━━━━━━━━━━━━━━━━━\u001b[0m\u001b[37m\u001b[0m \u001b[1m1s\u001b[0m 43ms/step - accuracy: 0.8490 - loss: 0.3845 - val_accuracy: 0.7333 - val_loss: 0.5537\n",
      "Epoch 179/1000\n",
      "\u001b[1m17/17\u001b[0m \u001b[32m━━━━━━━━━━━━━━━━━━━━\u001b[0m\u001b[37m\u001b[0m \u001b[1m1s\u001b[0m 46ms/step - accuracy: 0.8234 - loss: 0.4085 - val_accuracy: 0.7333 - val_loss: 0.5476\n",
      "Epoch 180/1000\n",
      "\u001b[1m17/17\u001b[0m \u001b[32m━━━━━━━━━━━━━━━━━━━━\u001b[0m\u001b[37m\u001b[0m \u001b[1m1s\u001b[0m 44ms/step - accuracy: 0.8228 - loss: 0.3906 - val_accuracy: 0.7333 - val_loss: 0.5585\n",
      "Epoch 181/1000\n",
      "\u001b[1m17/17\u001b[0m \u001b[32m━━━━━━━━━━━━━━━━━━━━\u001b[0m\u001b[37m\u001b[0m \u001b[1m1s\u001b[0m 44ms/step - accuracy: 0.8371 - loss: 0.4104 - val_accuracy: 0.7500 - val_loss: 0.5338\n",
      "Epoch 182/1000\n",
      "\u001b[1m17/17\u001b[0m \u001b[32m━━━━━━━━━━━━━━━━━━━━\u001b[0m\u001b[37m\u001b[0m \u001b[1m1s\u001b[0m 43ms/step - accuracy: 0.8518 - loss: 0.3943 - val_accuracy: 0.7500 - val_loss: 0.5254\n",
      "Epoch 183/1000\n",
      "\u001b[1m17/17\u001b[0m \u001b[32m━━━━━━━━━━━━━━━━━━━━\u001b[0m\u001b[37m\u001b[0m \u001b[1m1s\u001b[0m 45ms/step - accuracy: 0.8581 - loss: 0.3537 - val_accuracy: 0.7500 - val_loss: 0.5288\n",
      "Epoch 184/1000\n",
      "\u001b[1m17/17\u001b[0m \u001b[32m━━━━━━━━━━━━━━━━━━━━\u001b[0m\u001b[37m\u001b[0m \u001b[1m1s\u001b[0m 43ms/step - accuracy: 0.8616 - loss: 0.3526 - val_accuracy: 0.7500 - val_loss: 0.5394\n",
      "Epoch 185/1000\n",
      "\u001b[1m17/17\u001b[0m \u001b[32m━━━━━━━━━━━━━━━━━━━━\u001b[0m\u001b[37m\u001b[0m \u001b[1m1s\u001b[0m 44ms/step - accuracy: 0.8488 - loss: 0.3556 - val_accuracy: 0.7500 - val_loss: 0.5326\n",
      "Epoch 186/1000\n",
      "\u001b[1m17/17\u001b[0m \u001b[32m━━━━━━━━━━━━━━━━━━━━\u001b[0m\u001b[37m\u001b[0m \u001b[1m1s\u001b[0m 44ms/step - accuracy: 0.8449 - loss: 0.3705 - val_accuracy: 0.7500 - val_loss: 0.5314\n",
      "Epoch 187/1000\n",
      "\u001b[1m17/17\u001b[0m \u001b[32m━━━━━━━━━━━━━━━━━━━━\u001b[0m\u001b[37m\u001b[0m \u001b[1m1s\u001b[0m 45ms/step - accuracy: 0.8712 - loss: 0.3359 - val_accuracy: 0.7500 - val_loss: 0.5335\n",
      "Epoch 188/1000\n",
      "\u001b[1m17/17\u001b[0m \u001b[32m━━━━━━━━━━━━━━━━━━━━\u001b[0m\u001b[37m\u001b[0m \u001b[1m1s\u001b[0m 44ms/step - accuracy: 0.8254 - loss: 0.3989 - val_accuracy: 0.7500 - val_loss: 0.5267\n",
      "Epoch 189/1000\n",
      "\u001b[1m17/17\u001b[0m \u001b[32m━━━━━━━━━━━━━━━━━━━━\u001b[0m\u001b[37m\u001b[0m \u001b[1m1s\u001b[0m 43ms/step - accuracy: 0.8408 - loss: 0.4087 - val_accuracy: 0.7500 - val_loss: 0.5367\n",
      "Epoch 190/1000\n",
      "\u001b[1m17/17\u001b[0m \u001b[32m━━━━━━━━━━━━━━━━━━━━\u001b[0m\u001b[37m\u001b[0m \u001b[1m1s\u001b[0m 44ms/step - accuracy: 0.8231 - loss: 0.4151 - val_accuracy: 0.7500 - val_loss: 0.5321\n",
      "Epoch 191/1000\n",
      "\u001b[1m17/17\u001b[0m \u001b[32m━━━━━━━━━━━━━━━━━━━━\u001b[0m\u001b[37m\u001b[0m \u001b[1m1s\u001b[0m 46ms/step - accuracy: 0.8550 - loss: 0.3620 - val_accuracy: 0.7500 - val_loss: 0.5337\n",
      "Epoch 192/1000\n",
      "\u001b[1m17/17\u001b[0m \u001b[32m━━━━━━━━━━━━━━━━━━━━\u001b[0m\u001b[37m\u001b[0m \u001b[1m1s\u001b[0m 43ms/step - accuracy: 0.8392 - loss: 0.3814 - val_accuracy: 0.7500 - val_loss: 0.5308\n",
      "Epoch 193/1000\n",
      "\u001b[1m17/17\u001b[0m \u001b[32m━━━━━━━━━━━━━━━━━━━━\u001b[0m\u001b[37m\u001b[0m \u001b[1m1s\u001b[0m 44ms/step - accuracy: 0.8366 - loss: 0.3865 - val_accuracy: 0.7667 - val_loss: 0.5136\n",
      "Epoch 194/1000\n",
      "\u001b[1m17/17\u001b[0m \u001b[32m━━━━━━━━━━━━━━━━━━━━\u001b[0m\u001b[37m\u001b[0m \u001b[1m1s\u001b[0m 43ms/step - accuracy: 0.8296 - loss: 0.3805 - val_accuracy: 0.7667 - val_loss: 0.5140\n",
      "Epoch 195/1000\n",
      "\u001b[1m17/17\u001b[0m \u001b[32m━━━━━━━━━━━━━━━━━━━━\u001b[0m\u001b[37m\u001b[0m \u001b[1m1s\u001b[0m 45ms/step - accuracy: 0.8425 - loss: 0.3793 - val_accuracy: 0.7667 - val_loss: 0.5161\n",
      "Epoch 196/1000\n",
      "\u001b[1m17/17\u001b[0m \u001b[32m━━━━━━━━━━━━━━━━━━━━\u001b[0m\u001b[37m\u001b[0m \u001b[1m1s\u001b[0m 44ms/step - accuracy: 0.8468 - loss: 0.3674 - val_accuracy: 0.7500 - val_loss: 0.5340\n",
      "Epoch 197/1000\n",
      "\u001b[1m17/17\u001b[0m \u001b[32m━━━━━━━━━━━━━━━━━━━━\u001b[0m\u001b[37m\u001b[0m \u001b[1m1s\u001b[0m 43ms/step - accuracy: 0.8134 - loss: 0.4084 - val_accuracy: 0.7500 - val_loss: 0.5335\n",
      "Epoch 198/1000\n",
      "\u001b[1m17/17\u001b[0m \u001b[32m━━━━━━━━━━━━━━━━━━━━\u001b[0m\u001b[37m\u001b[0m \u001b[1m1s\u001b[0m 43ms/step - accuracy: 0.8625 - loss: 0.3496 - val_accuracy: 0.7500 - val_loss: 0.5419\n",
      "Epoch 199/1000\n",
      "\u001b[1m17/17\u001b[0m \u001b[32m━━━━━━━━━━━━━━━━━━━━\u001b[0m\u001b[37m\u001b[0m \u001b[1m1s\u001b[0m 46ms/step - accuracy: 0.8217 - loss: 0.3900 - val_accuracy: 0.7500 - val_loss: 0.5332\n",
      "Epoch 200/1000\n",
      "\u001b[1m17/17\u001b[0m \u001b[32m━━━━━━━━━━━━━━━━━━━━\u001b[0m\u001b[37m\u001b[0m \u001b[1m1s\u001b[0m 44ms/step - accuracy: 0.8424 - loss: 0.3700 - val_accuracy: 0.7667 - val_loss: 0.5176\n",
      "Epoch 201/1000\n",
      "\u001b[1m17/17\u001b[0m \u001b[32m━━━━━━━━━━━━━━━━━━━━\u001b[0m\u001b[37m\u001b[0m \u001b[1m1s\u001b[0m 43ms/step - accuracy: 0.8589 - loss: 0.3561 - val_accuracy: 0.7667 - val_loss: 0.5114\n"
     ]
    }
   ],
   "source": [
    "history = model.fit(\n",
    "    X_train, y_train,\n",
    "    epochs=1000,\n",
    "    batch_size=32,\n",
    "    validation_split=0.1,\n",
    "    callbacks=[early_stop]\n",
    ")\n",
    "\n"
   ]
  },
  {
   "cell_type": "markdown",
   "id": "6b10b7c5",
   "metadata": {},
   "source": [
    "# Eğitim Doğruluğu : % 83.03\n",
    "# Test Doğruluğu : % 81.18"
   ]
  },
  {
   "cell_type": "code",
   "execution_count": 40,
   "id": "31afc956",
   "metadata": {},
   "outputs": [
    {
     "name": "stdout",
     "output_type": "stream",
     "text": [
      "\u001b[1m8/8\u001b[0m \u001b[32m━━━━━━━━━━━━━━━━━━━━\u001b[0m\u001b[37m\u001b[0m \u001b[1m0s\u001b[0m 13ms/step - accuracy: 0.7789 - loss: 0.5048\n",
      "\u001b[1m19/19\u001b[0m \u001b[32m━━━━━━━━━━━━━━━━━━━━\u001b[0m\u001b[37m\u001b[0m \u001b[1m0s\u001b[0m 10ms/step - accuracy: 0.8107 - loss: 0.4569\n",
      "Eğitim Doğruluğu : % 82.52\n",
      "Test Doğruluğu : % 81.57\n"
     ]
    }
   ],
   "source": [
    "losstest, acctest = model.evaluate(X_test, y_test)\n",
    "losstrain, acctrain = model.evaluate(X_train, y_train)\n",
    "acctrain*=100\n",
    "acctest*=100\n",
    "print(f\"Eğitim Doğruluğu : % {acctrain:.2f}\")\n",
    "print(f\"Test Doğruluğu : % {acctest:.2f}\")\n"
   ]
  },
  {
   "cell_type": "markdown",
   "id": "c0e7d9f8",
   "metadata": {},
   "source": [
    "| Belirti                                             | Var mı? | Açıklama                                                                                               |\n",
    "| --------------------------------------------------- | ------- | ------------------------------------------------------------------------------------------------------ |\n",
    "| Eğitim doğruluğu yüksek, doğrulama doğruluğu düşük  | ✅ Evet  | %84 vs %73 farkı var. Bu, modelin eğitim verisine fazla uyum sağladığını (ezberlediğini) gösterebilir. |\n",
    "| Doğrulama doğruluğu zamanla düşüyor mu?             | ❌ Hayır | Doğrulama doğruluğu sabit ya da hafif artıyor; bu da overfitting’in çok ciddi olmadığını gösteriyor.   |\n",
    "| Eğitim doğruluğu artarken doğrulama doğruluğu sabit | ✅ Evet  | Bu da klasik bir overfitting işareti olabilir.                                                         |\n"
   ]
  },
  {
   "cell_type": "code",
   "execution_count": 41,
   "id": "895845d8",
   "metadata": {},
   "outputs": [
    {
     "data": {
      "image/png": "[encoded data removed]",
      "text/plain": [
       "<Figure size 1000x600 with 1 Axes>"
      ]
     },
     "metadata": {},
     "output_type": "display_data"
    }
   ],
   "source": [
    "import matplotlib.pyplot as plt\n",
    "\n",
    "acc = history.history['accuracy']\n",
    "val_acc = history.history['val_accuracy']\n",
    "epochs = range(1, len(acc) + 1)\n",
    "\n",
    "plt.figure(figsize=(10, 6))\n",
    "\n",
    "plt.plot(epochs, acc, label='Eğitim Doğruluğu', color='blue', linewidth=2)\n",
    "plt.plot(epochs, val_acc, label='Doğrulama Doğruluğu', color='red', linewidth=2, linestyle='--')\n",
    "\n",
    "plt.title('Eğitim ve Doğrulama Doğruluğu', fontsize=16)\n",
    "plt.xlabel('Epoch', fontsize=14)\n",
    "plt.ylabel('Doğruluk', fontsize=14)\n",
    "plt.ylim(0, 1)\n",
    "plt.legend()\n",
    "plt.grid(True, linestyle=':', alpha=0.5)\n",
    "\n",
    "plt.tight_layout()\n",
    "plt.show()\n"
   ]
  },
  {
   "cell_type": "code",
   "execution_count": 47,
   "id": "8ea4a924",
   "metadata": {},
   "outputs": [
    {
     "name": "stdout",
     "output_type": "stream",
     "text": [
      "\u001b[1m8/8\u001b[0m \u001b[32m━━━━━━━━━━━━━━━━━━━━\u001b[0m\u001b[37m\u001b[0m \u001b[1m0s\u001b[0m 11ms/step\n"
     ]
    }
   ],
   "source": [
    "y_scores = model.predict(X_test).flatten()  # Olasılıkları al, array'i 1D yap\n"
   ]
  },
  {
   "cell_type": "code",
   "execution_count": 48,
   "id": "aaba7e02",
   "metadata": {},
   "outputs": [
    {
     "name": "stdout",
     "output_type": "stream",
     "text": [
      "Optimal eşik değeri: 0.8965544700622559\n"
     ]
    }
   ],
   "source": [
    "from sklearn.metrics import precision_recall_curve\n",
    "\n",
    "precision, recall, thresholds = precision_recall_curve(y_test, y_scores)\n",
    "f1_scores = 2 * (precision * recall) / (precision + recall)\n",
    "optimal_idx = f1_scores.argmax()\n",
    "optimal_threshold = thresholds[optimal_idx]\n",
    "\n",
    "print(f\"Optimal eşik değeri: {optimal_threshold}\")\n"
   ]
  },
  {
   "cell_type": "code",
   "execution_count": 50,
   "id": "886d64f9",
   "metadata": {},
   "outputs": [
    {
     "data": {
      "image/png": "[encoded data removed]",
      "text/plain": [
       "<Figure size 640x480 with 2 Axes>"
      ]
     },
     "metadata": {},
     "output_type": "display_data"
    }
   ],
   "source": [
    "from sklearn.metrics import confusion_matrix, ConfusionMatrixDisplay\n",
    "import matplotlib.pyplot as plt\n",
    "import numpy as np\n",
    "\n",
    "cm = confusion_matrix(y_test, y_pred)\n",
    "labels = ['Yetişkin', 'Çocuk']\n",
    "\n",
    "disp = ConfusionMatrixDisplay(confusion_matrix=cm, display_labels=labels)\n",
    "disp.plot(cmap=plt.cm.Greens)\n",
    "plt.title(\"Konfüzyon Matrisi\")\n",
    "plt.grid(False)\n",
    "plt.show()\n"
   ]
  },
  {
   "cell_type": "code",
   "execution_count": 51,
   "id": "cd2cd0b3",
   "metadata": {},
   "outputs": [
    {
     "name": "stderr",
     "output_type": "stream",
     "text": [
      "WARNING:absl:You are saving your model as an HDF5 file via `model.save()` or `keras.saving.save_model(model)`. This file format is considered legacy. We recommend using instead the native Keras format, e.g. `model.save('my_model.keras')` or `keras.saving.save_model(model, 'my_model.keras')`. \n",
      "WARNING:absl:Compiled the loaded model, but the compiled metrics have yet to be built. `model.compile_metrics` will be empty until you train or evaluate the model.\n"
     ]
    }
   ],
   "source": [
    "import json\n",
    "from tensorflow.keras.models import load_model\n",
    "\n",
    "# Model ve tokenizer'ı kaydetmek için\n",
    "output_dir = \"./results\"\n",
    "model.save(f\"{output_dir}/model.h5\")\n",
    "\n",
    "# Tokenizer'ı JSON formatında kaydet\n",
    "tokenizer_json = tokenizer.to_json()\n",
    "with open(f\"{output_dir}/tokenizer2.json\", \"w\", encoding='utf-8') as f:\n",
    "    f.write(tokenizer_json)\n",
    "\n",
    "\n",
    "# --------------------------------------------\n",
    "# Kaydedilen modeli ve tokenizer'ı yüklemek için\n",
    "loaded_model = load_model(f\"{output_dir}/model.h5\")\n",
    "\n",
    "from tensorflow.keras.preprocessing.text import tokenizer_from_json\n",
    "\n",
    "with open(f\"{output_dir}/tokenizer2.json\", \"r\", encoding='utf-8') as f:\n",
    "    tokenizer_json = f.read()\n",
    "loaded_tokenizer = tokenizer_from_json(tokenizer_json)\n"
   ]
  }
 ],
 "metadata": {
  "kernelspec": {
   "display_name": "base",
   "language": "python",
   "name": "python3"
  },
  "language_info": {
   "codemirror_mode": {
    "name": "ipython",
    "version": 3
   },
   "file_extension": ".py",
   "mimetype": "text/x-python",
   "name": "python",
   "nbconvert_exporter": "python",
   "pygments_lexer": "ipython3",
   "version": "3.12.7"
  }
 },
 "nbformat": 4,
 "nbformat_minor": 5
}
